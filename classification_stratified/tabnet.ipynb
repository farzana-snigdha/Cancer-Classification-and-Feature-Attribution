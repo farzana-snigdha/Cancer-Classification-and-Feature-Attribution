{
  "metadata": {
    "kernelspec": {
      "language": "python",
      "display_name": "Python 3",
      "name": "python3"
    },
    "language_info": {
      "name": "python",
      "version": "3.7.12",
      "mimetype": "text/x-python",
      "codemirror_mode": {
        "name": "ipython",
        "version": 3
      },
      "pygments_lexer": "ipython3",
      "nbconvert_exporter": "python",
      "file_extension": ".py"
    },
    "colab": {
      "provenance": [],
      "collapsed_sections": [
        "FD5ctKbjUgPD"
      ],
      "toc_visible": true,
      "machine_shape": "hm"
    },
    "accelerator": "GPU",
    "gpuClass": "premium"
  },
  "nbformat_minor": 0,
  "nbformat": 4,
  "cells": [
    {
      "cell_type": "code",
      "source": [
        "!pip install pytorch-tabnet\n",
        "!pip install -U --no-cache-dir gdown --pre\n",
        "\n",
        "!pip install --pre torch torchvision --extra-index-url https://download.pytorch.org/whl/nightly/cpu\n"
      ],
      "metadata": {
        "colab": {
          "base_uri": "https://localhost:8080/"
        },
        "id": "hPPiSYRxYleU",
        "outputId": "b0787a85-1802-477d-f3a0-186e81cefab2"
      },
      "execution_count": null,
      "outputs": [
        {
          "output_type": "stream",
          "name": "stdout",
          "text": [
            "Looking in indexes: https://pypi.org/simple, https://us-python.pkg.dev/colab-wheels/public/simple/\n",
            "Requirement already satisfied: pytorch-tabnet in /usr/local/lib/python3.9/dist-packages (4.0)\n",
            "Requirement already satisfied: torch<2.0,>=1.2 in /usr/local/lib/python3.9/dist-packages (from pytorch-tabnet) (1.13.1)\n",
            "Requirement already satisfied: numpy<2.0,>=1.17 in /usr/local/lib/python3.9/dist-packages (from pytorch-tabnet) (1.22.4)\n",
            "Requirement already satisfied: scikit_learn>0.21 in /usr/local/lib/python3.9/dist-packages (from pytorch-tabnet) (1.2.2)\n",
            "Requirement already satisfied: scipy>1.4 in /usr/local/lib/python3.9/dist-packages (from pytorch-tabnet) (1.10.1)\n",
            "Requirement already satisfied: tqdm<5.0,>=4.36 in /usr/local/lib/python3.9/dist-packages (from pytorch-tabnet) (4.65.0)\n",
            "Requirement already satisfied: joblib>=1.1.1 in /usr/local/lib/python3.9/dist-packages (from scikit_learn>0.21->pytorch-tabnet) (1.1.1)\n",
            "Requirement already satisfied: threadpoolctl>=2.0.0 in /usr/local/lib/python3.9/dist-packages (from scikit_learn>0.21->pytorch-tabnet) (3.1.0)\n",
            "Requirement already satisfied: nvidia-cuda-nvrtc-cu11==11.7.99 in /usr/local/lib/python3.9/dist-packages (from torch<2.0,>=1.2->pytorch-tabnet) (11.7.99)\n",
            "Requirement already satisfied: nvidia-cudnn-cu11==8.5.0.96 in /usr/local/lib/python3.9/dist-packages (from torch<2.0,>=1.2->pytorch-tabnet) (8.5.0.96)\n",
            "Requirement already satisfied: typing-extensions in /usr/local/lib/python3.9/dist-packages (from torch<2.0,>=1.2->pytorch-tabnet) (4.5.0)\n",
            "Requirement already satisfied: nvidia-cuda-runtime-cu11==11.7.99 in /usr/local/lib/python3.9/dist-packages (from torch<2.0,>=1.2->pytorch-tabnet) (11.7.99)\n",
            "Requirement already satisfied: nvidia-cublas-cu11==11.10.3.66 in /usr/local/lib/python3.9/dist-packages (from torch<2.0,>=1.2->pytorch-tabnet) (11.10.3.66)\n",
            "Requirement already satisfied: wheel in /usr/local/lib/python3.9/dist-packages (from nvidia-cublas-cu11==11.10.3.66->torch<2.0,>=1.2->pytorch-tabnet) (0.40.0)\n",
            "Requirement already satisfied: setuptools in /usr/local/lib/python3.9/dist-packages (from nvidia-cublas-cu11==11.10.3.66->torch<2.0,>=1.2->pytorch-tabnet) (67.6.1)\n",
            "Looking in indexes: https://pypi.org/simple, https://us-python.pkg.dev/colab-wheels/public/simple/\n",
            "Requirement already satisfied: gdown in /usr/local/lib/python3.9/dist-packages (4.7.1)\n",
            "Requirement already satisfied: six in /usr/local/lib/python3.9/dist-packages (from gdown) (1.16.0)\n",
            "Requirement already satisfied: filelock in /usr/local/lib/python3.9/dist-packages (from gdown) (3.10.7)\n",
            "Requirement already satisfied: requests[socks] in /usr/local/lib/python3.9/dist-packages (from gdown) (2.27.1)\n",
            "Requirement already satisfied: tqdm in /usr/local/lib/python3.9/dist-packages (from gdown) (4.65.0)\n",
            "Requirement already satisfied: beautifulsoup4 in /usr/local/lib/python3.9/dist-packages (from gdown) (4.11.2)\n",
            "Requirement already satisfied: soupsieve>1.2 in /usr/local/lib/python3.9/dist-packages (from beautifulsoup4->gdown) (2.4)\n",
            "Requirement already satisfied: charset-normalizer~=2.0.0 in /usr/local/lib/python3.9/dist-packages (from requests[socks]->gdown) (2.0.12)\n",
            "Requirement already satisfied: idna<4,>=2.5 in /usr/local/lib/python3.9/dist-packages (from requests[socks]->gdown) (3.4)\n",
            "Requirement already satisfied: urllib3<1.27,>=1.21.1 in /usr/local/lib/python3.9/dist-packages (from requests[socks]->gdown) (1.26.15)\n",
            "Requirement already satisfied: certifi>=2017.4.17 in /usr/local/lib/python3.9/dist-packages (from requests[socks]->gdown) (2022.12.7)\n",
            "Requirement already satisfied: PySocks!=1.5.7,>=1.5.6 in /usr/local/lib/python3.9/dist-packages (from requests[socks]->gdown) (1.7.1)\n",
            "Looking in indexes: https://pypi.org/simple, https://us-python.pkg.dev/colab-wheels/public/simple/, https://download.pytorch.org/whl/nightly/cpu\n",
            "Requirement already satisfied: torch in /usr/local/lib/python3.9/dist-packages (1.13.1)\n",
            "Requirement already satisfied: torchvision in /usr/local/lib/python3.9/dist-packages (0.15.1+cu118)\n",
            "Requirement already satisfied: nvidia-cuda-nvrtc-cu11==11.7.99 in /usr/local/lib/python3.9/dist-packages (from torch) (11.7.99)\n",
            "Requirement already satisfied: nvidia-cuda-runtime-cu11==11.7.99 in /usr/local/lib/python3.9/dist-packages (from torch) (11.7.99)\n",
            "Requirement already satisfied: nvidia-cublas-cu11==11.10.3.66 in /usr/local/lib/python3.9/dist-packages (from torch) (11.10.3.66)\n",
            "Requirement already satisfied: typing-extensions in /usr/local/lib/python3.9/dist-packages (from torch) (4.5.0)\n",
            "Requirement already satisfied: nvidia-cudnn-cu11==8.5.0.96 in /usr/local/lib/python3.9/dist-packages (from torch) (8.5.0.96)\n",
            "Requirement already satisfied: setuptools in /usr/local/lib/python3.9/dist-packages (from nvidia-cublas-cu11==11.10.3.66->torch) (67.6.1)\n",
            "Requirement already satisfied: wheel in /usr/local/lib/python3.9/dist-packages (from nvidia-cublas-cu11==11.10.3.66->torch) (0.40.0)\n",
            "Requirement already satisfied: pillow!=8.3.*,>=5.3.0 in /usr/local/lib/python3.9/dist-packages (from torchvision) (8.4.0)\n",
            "Requirement already satisfied: requests in /usr/local/lib/python3.9/dist-packages (from torchvision) (2.27.1)\n",
            "Requirement already satisfied: numpy in /usr/local/lib/python3.9/dist-packages (from torchvision) (1.22.4)\n",
            "Collecting torch\n",
            "  Downloading torch-2.0.0-cp39-cp39-manylinux1_x86_64.whl (619.9 MB)\n",
            "\u001b[2K     \u001b[90m━━━━━━━━━━━━━━━━━━━━━━━━━━━━━━━━━━━━━━━\u001b[0m \u001b[32m619.9/619.9 MB\u001b[0m \u001b[31m1.7 MB/s\u001b[0m eta \u001b[36m0:00:00\u001b[0m\n",
            "\u001b[?25hCollecting nvidia-curand-cu11==10.2.10.91\n",
            "  Downloading nvidia_curand_cu11-10.2.10.91-py3-none-manylinux1_x86_64.whl (54.6 MB)\n",
            "\u001b[2K     \u001b[90m━━━━━━━━━━━━━━━━━━━━━━━━━━━━━━━━━━━━━━━━\u001b[0m \u001b[32m54.6/54.6 MB\u001b[0m \u001b[31m23.0 MB/s\u001b[0m eta \u001b[36m0:00:00\u001b[0m\n",
            "\u001b[?25hRequirement already satisfied: triton==2.0.0 in /usr/local/lib/python3.9/dist-packages (from torch) (2.0.0)\n",
            "Requirement already satisfied: filelock in /usr/local/lib/python3.9/dist-packages (from torch) (3.10.7)\n",
            "Collecting nvidia-cusparse-cu11==11.7.4.91\n",
            "  Downloading nvidia_cusparse_cu11-11.7.4.91-py3-none-manylinux1_x86_64.whl (173.2 MB)\n",
            "\u001b[2K     \u001b[90m━━━━━━━━━━━━━━━━━━━━━━━━━━━━━━━━━━━━━━━\u001b[0m \u001b[32m173.2/173.2 MB\u001b[0m \u001b[31m9.0 MB/s\u001b[0m eta \u001b[36m0:00:00\u001b[0m\n",
            "\u001b[?25hCollecting nvidia-nccl-cu11==2.14.3\n",
            "  Downloading nvidia_nccl_cu11-2.14.3-py3-none-manylinux1_x86_64.whl (177.1 MB)\n",
            "\u001b[2K     \u001b[90m━━━━━━━━━━━━━━━━━━━━━━━━━━━━━━━━━━━━━━━\u001b[0m \u001b[32m177.1/177.1 MB\u001b[0m \u001b[31m9.6 MB/s\u001b[0m eta \u001b[36m0:00:00\u001b[0m\n",
            "\u001b[?25hRequirement already satisfied: jinja2 in /usr/local/lib/python3.9/dist-packages (from torch) (3.1.2)\n",
            "Requirement already satisfied: networkx in /usr/local/lib/python3.9/dist-packages (from torch) (3.0)\n",
            "Requirement already satisfied: sympy in /usr/local/lib/python3.9/dist-packages (from torch) (1.11.1)\n",
            "Collecting nvidia-cusolver-cu11==11.4.0.1\n",
            "  Downloading nvidia_cusolver_cu11-11.4.0.1-2-py3-none-manylinux1_x86_64.whl (102.6 MB)\n",
            "\u001b[2K     \u001b[90m━━━━━━━━━━━━━━━━━━━━━━━━━━━━━━━━━━━━━━\u001b[0m \u001b[32m102.6/102.6 MB\u001b[0m \u001b[31m15.4 MB/s\u001b[0m eta \u001b[36m0:00:00\u001b[0m\n",
            "\u001b[?25hCollecting nvidia-cuda-cupti-cu11==11.7.101\n",
            "  Downloading nvidia_cuda_cupti_cu11-11.7.101-py3-none-manylinux1_x86_64.whl (11.8 MB)\n",
            "\u001b[2K     \u001b[90m━━━━━━━━━━━━━━━━━━━━━━━━━━━━━━━━━━━━━━━━\u001b[0m \u001b[32m11.8/11.8 MB\u001b[0m \u001b[31m76.5 MB/s\u001b[0m eta \u001b[36m0:00:00\u001b[0m\n",
            "\u001b[?25hCollecting nvidia-nvtx-cu11==11.7.91\n",
            "  Downloading nvidia_nvtx_cu11-11.7.91-py3-none-manylinux1_x86_64.whl (98 kB)\n",
            "\u001b[2K     \u001b[90m━━━━━━━━━━━━━━━━━━━━━━━━━━━━━━━━━━━━━━━━\u001b[0m \u001b[32m98.6/98.6 KB\u001b[0m \u001b[31m14.7 MB/s\u001b[0m eta \u001b[36m0:00:00\u001b[0m\n",
            "\u001b[?25hCollecting nvidia-cufft-cu11==10.9.0.58\n",
            "  Downloading nvidia_cufft_cu11-10.9.0.58-py3-none-manylinux1_x86_64.whl (168.4 MB)\n",
            "\u001b[2K     \u001b[90m━━━━━━━━━━━━━━━━━━━━━━━━━━━━━━━━━━━━━━━\u001b[0m \u001b[32m168.4/168.4 MB\u001b[0m \u001b[31m9.8 MB/s\u001b[0m eta \u001b[36m0:00:00\u001b[0m\n",
            "\u001b[?25hRequirement already satisfied: cmake in /usr/local/lib/python3.9/dist-packages (from triton==2.0.0->torch) (3.25.2)\n",
            "Requirement already satisfied: lit in /usr/local/lib/python3.9/dist-packages (from triton==2.0.0->torch) (16.0.0)\n",
            "Requirement already satisfied: MarkupSafe>=2.0 in /usr/local/lib/python3.9/dist-packages (from jinja2->torch) (2.1.2)\n",
            "Requirement already satisfied: certifi>=2017.4.17 in /usr/local/lib/python3.9/dist-packages (from requests->torchvision) (2022.12.7)\n",
            "Requirement already satisfied: idna<4,>=2.5 in /usr/local/lib/python3.9/dist-packages (from requests->torchvision) (3.4)\n",
            "Requirement already satisfied: charset-normalizer~=2.0.0 in /usr/local/lib/python3.9/dist-packages (from requests->torchvision) (2.0.12)\n",
            "Requirement already satisfied: urllib3<1.27,>=1.21.1 in /usr/local/lib/python3.9/dist-packages (from requests->torchvision) (1.26.15)\n",
            "Requirement already satisfied: mpmath>=0.19 in /usr/local/lib/python3.9/dist-packages (from sympy->torch) (1.3.0)\n",
            "Installing collected packages: nvidia-nvtx-cu11, nvidia-nccl-cu11, nvidia-cusparse-cu11, nvidia-curand-cu11, nvidia-cufft-cu11, nvidia-cuda-cupti-cu11, nvidia-cusolver-cu11, torch\n",
            "  Attempting uninstall: torch\n",
            "    Found existing installation: torch 1.13.1\n",
            "    Uninstalling torch-1.13.1:\n",
            "      Successfully uninstalled torch-1.13.1\n",
            "\u001b[31mERROR: pip's dependency resolver does not currently take into account all the packages that are installed. This behaviour is the source of the following dependency conflicts.\n",
            "pytorch-tabnet 4.0 requires torch<2.0,>=1.2, but you have torch 2.0.0 which is incompatible.\u001b[0m\u001b[31m\n",
            "\u001b[0mSuccessfully installed nvidia-cuda-cupti-cu11-11.7.101 nvidia-cufft-cu11-10.9.0.58 nvidia-curand-cu11-10.2.10.91 nvidia-cusolver-cu11-11.4.0.1 nvidia-cusparse-cu11-11.7.4.91 nvidia-nccl-cu11-2.14.3 nvidia-nvtx-cu11-11.7.91 torch-2.0.0\n"
          ]
        }
      ]
    },
    {
      "cell_type": "code",
      "source": [
        "import numpy as np # linear algebra\n",
        "import pandas as pd # data processing, CSV file I/O (e.g. pd.read_csv)\n",
        "\n",
        "from collections import defaultdict\n",
        "\n",
        "from sklearn import model_selection, ensemble\n",
        "from sklearn.preprocessing import LabelEncoder\n",
        "from sklearn.metrics import confusion_matrix, classification_report, accuracy_score, precision_score, recall_score, f1_score\n",
        "from sklearn.model_selection import KFold, cross_val_score, train_test_split, GridSearchCV, StratifiedKFold\n",
        "from sklearn.utils.multiclass import unique_labels\n",
        "\n",
        "# model saving\n",
        "import pickle \n",
        "from joblib import Parallel, delayed\n",
        "import joblib\n",
        "\n",
        "# heatmap\n",
        "import seaborn as sn\n",
        "\n",
        "from matplotlib import pyplot\n",
        "\n",
        "# tabnet\n",
        "import torch\n",
        "from pytorch_tabnet.tab_model import TabNetClassifier\n"
      ],
      "metadata": {
        "_uuid": "8f2839f25d086af736a60e9eeb907d3b93b6e0e5",
        "_cell_guid": "b1076dfc-b9ad-4769-8c92-a6c4dae69d19",
        "id": "EpJNbL3xgGah",
        "execution": {
          "iopub.status.busy": "2023-04-02T13:54:51.202339Z",
          "iopub.execute_input": "2023-04-02T13:54:51.203127Z",
          "iopub.status.idle": "2023-04-02T13:54:52.854447Z",
          "shell.execute_reply.started": "2023-04-02T13:54:51.203082Z",
          "shell.execute_reply": "2023-04-02T13:54:52.853382Z"
        },
        "trusted": true
      },
      "execution_count": null,
      "outputs": []
    },
    {
      "cell_type": "code",
      "source": [
        "!gdown 1BQ_5BnEJfpR0a4K1GJB99RVR2Q63eXIF"
      ],
      "metadata": {
        "colab": {
          "base_uri": "https://localhost:8080/"
        },
        "id": "9UlncwflgGam",
        "outputId": "7d5f438b-e13e-45d3-8f7b-c1d7d0531cd7",
        "execution": {
          "iopub.status.busy": "2023-03-07T16:42:44.679273Z",
          "iopub.execute_input": "2023-03-07T16:42:44.679789Z",
          "iopub.status.idle": "2023-03-07T16:43:07.728063Z",
          "shell.execute_reply.started": "2023-03-07T16:42:44.679736Z",
          "shell.execute_reply": "2023-03-07T16:43:07.726529Z"
        },
        "trusted": true
      },
      "execution_count": null,
      "outputs": [
        {
          "name": "stdout",
          "text": "Downloading...\nFrom: https://drive.google.com/uc?id=1BQ_5BnEJfpR0a4K1GJB99RVR2Q63eXIF\nTo: /kaggle/working/tumor_gene_Symbol_dataset.csv\n100%|██████████████████████████████████████| 1.38G/1.38G [00:20<00:00, 68.3MB/s]\n",
          "output_type": "stream"
        }
      ]
    },
    {
      "cell_type": "markdown",
      "source": [
        "# data process"
      ],
      "metadata": {
        "id": "FD5ctKbjUgPD"
      }
    },
    {
      "cell_type": "code",
      "source": [
        "gene_symbol_mapping= pd.read_csv(\"./tumor_gene_Symbol_dataset.csv\", sep=',')\n",
        "gene_symbol_mapping = gene_symbol_mapping.sort_values(by=['Unnamed: 0'])\n",
        "gene_symbol_mapping= gene_symbol_mapping.set_index('Unnamed: 0')\n",
        "gene_symbol_mapping = gene_symbol_mapping[gene_symbol_mapping['cancer type abbreviation'].notna()]\n",
        "\n",
        "gene_symbol_mapping"
      ],
      "metadata": {
        "colab": {
          "base_uri": "https://localhost:8080/",
          "height": 901
        },
        "id": "9G6hRPH8gGan",
        "outputId": "2bd9e370-c91c-46d9-ee84-9d83ece44ddb",
        "execution": {
          "iopub.status.busy": "2023-03-07T16:43:07.731139Z",
          "iopub.execute_input": "2023-03-07T16:43:07.733069Z",
          "iopub.status.idle": "2023-03-07T16:45:01.712747Z",
          "shell.execute_reply.started": "2023-03-07T16:43:07.733009Z",
          "shell.execute_reply": "2023-03-07T16:45:01.711458Z"
        },
        "trusted": true
      },
      "execution_count": null,
      "outputs": [
        {
          "execution_count": 4,
          "output_type": "execute_result",
          "data": {
            "text/plain": "                  RAB4B   TIGAR   RNF44   DNAH3   RPL23A   ARL8B   CALB2  \\\nUnnamed: 0                                                                 \nTCGA-02-0047-01  5.2698  3.0270  3.8876 -9.9658   9.0048  5.5361  1.1960   \nTCGA-02-0055-01  4.9026  2.9243  3.0498 -5.5735  10.4794  5.5877  1.8363   \nTCGA-02-2483-01  5.1260  2.8076  3.5754 -9.9658  10.5954  4.8500  0.5069   \nTCGA-02-2485-01  5.9409  3.5224  3.9746 -6.5064   9.8786  5.4383  0.2522   \nTCGA-04-1331-01  4.7005  1.3567  5.1639 -1.1811   8.7960  3.7400  2.5137   \n...                 ...     ...     ...     ...      ...     ...     ...   \nTCGA-ZS-A9CF-02  3.3535 -0.2159  3.1095 -9.9658   9.4021  4.2743 -5.5735   \nTCGA-ZS-A9CG-01  3.5262  0.6699  2.4359 -9.9658   8.7991  3.8330 -3.3076   \nTCGA-ZT-A8OM-01  6.0219 -0.1665  2.6962 -4.0350  12.3251  3.7720 -0.9971   \nTCGA-ZU-A8S4-01  5.0631  2.9784  3.5212 -5.5735   9.6838  5.0466  1.3956   \nTCGA-ZX-AA5X-01  4.5021  2.4883  4.2914 -1.3921   9.6675  5.3768  1.0779   \n\n                  DACH1    FMO2  ZNF708  ...  KIF16B  CYP4F2   TENM1   BATF3  \\\nUnnamed: 0                               ...                                   \nTCGA-02-0047-01 -2.3147 -2.2447  1.9452  ...  2.2113 -1.3183 -0.4325  3.2143   \nTCGA-02-0055-01 -0.2671 -0.1504  0.0014  ...  1.8996 -5.0116 -1.3548  4.1716   \nTCGA-02-2483-01 -0.6643 -4.6082  2.6940  ...  0.0580 -9.9658 -4.6082  2.1988   \nTCGA-02-2485-01 -0.9686 -1.5522  2.8158  ...  1.1184 -5.5735  1.1250  3.0791   \nTCGA-04-1331-01  3.0706 -0.7108  0.9115  ...  2.3394 -5.5735 -4.2934  0.9642   \n...                 ...     ...     ...  ...     ...     ...     ...     ...   \nTCGA-ZS-A9CF-02 -4.2934 -1.7322 -0.2159  ...  0.8647  6.3266 -0.6416 -0.2159   \nTCGA-ZS-A9CG-01 -2.9324  0.1257 -1.8314  ...  2.0183  5.8352 -2.2447 -0.5332   \nTCGA-ZT-A8OM-01 -1.5105 -1.9379 -0.9686  ... -1.5522 -2.4659 -0.4921  2.9729   \nTCGA-ZU-A8S4-01 -2.1140 -1.4699  0.3231  ...  1.4704 -0.1031 -5.5735  2.4386   \nTCGA-ZX-AA5X-01 -0.9406  3.7699  0.8327  ...  2.0776 -4.0350 -9.9658  1.5950   \n\n                 PPP6R1   OR8D4  cancer type abbreviation  \\\nUnnamed: 0                                                  \nTCGA-02-0047-01  4.6247 -9.9658                       GBM   \nTCGA-02-0055-01  4.2563 -9.9658                       GBM   \nTCGA-02-2483-01  4.2412 -9.9658                       GBM   \nTCGA-02-2485-01  4.7132 -9.9658                       GBM   \nTCGA-04-1331-01  4.8218 -9.9658                        OV   \n...                 ...     ...                       ...   \nTCGA-ZS-A9CF-02  3.3307 -9.9658                      LIHC   \nTCGA-ZS-A9CG-01  3.4384 -9.9658                      LIHC   \nTCGA-ZT-A8OM-01  6.6918 -9.9658                      THYM   \nTCGA-ZU-A8S4-01  4.8530 -9.9658                      CHOL   \nTCGA-ZX-AA5X-01  4.8900 -9.9658                      CESC   \n\n                 age_at_initial_pathologic_diagnosis  gender  \\\nUnnamed: 0                                                     \nTCGA-02-0047-01                                 78.0    MALE   \nTCGA-02-0055-01                                 62.0  FEMALE   \nTCGA-02-2483-01                                 43.0    MALE   \nTCGA-02-2485-01                                 53.0    MALE   \nTCGA-04-1331-01                                 78.0  FEMALE   \n...                                              ...     ...   \nTCGA-ZS-A9CF-02                                 64.0    MALE   \nTCGA-ZS-A9CG-01                                 55.0    MALE   \nTCGA-ZT-A8OM-01                                 73.0  FEMALE   \nTCGA-ZU-A8S4-01                                 52.0    MALE   \nTCGA-ZX-AA5X-01                                 64.0  FEMALE   \n\n                                      race  \nUnnamed: 0                                  \nTCGA-02-0047-01                      WHITE  \nTCGA-02-0055-01                      WHITE  \nTCGA-02-2483-01                      ASIAN  \nTCGA-02-2485-01  BLACK OR AFRICAN AMERICAN  \nTCGA-04-1331-01                      WHITE  \n...                                    ...  \nTCGA-ZS-A9CF-02                      WHITE  \nTCGA-ZS-A9CG-01                      WHITE  \nTCGA-ZT-A8OM-01                      WHITE  \nTCGA-ZU-A8S4-01                      WHITE  \nTCGA-ZX-AA5X-01                      WHITE  \n\n[9784 rows x 19242 columns]",
            "text/html": "<div>\n<style scoped>\n    .dataframe tbody tr th:only-of-type {\n        vertical-align: middle;\n    }\n\n    .dataframe tbody tr th {\n        vertical-align: top;\n    }\n\n    .dataframe thead th {\n        text-align: right;\n    }\n</style>\n<table border=\"1\" class=\"dataframe\">\n  <thead>\n    <tr style=\"text-align: right;\">\n      <th></th>\n      <th>RAB4B</th>\n      <th>TIGAR</th>\n      <th>RNF44</th>\n      <th>DNAH3</th>\n      <th>RPL23A</th>\n      <th>ARL8B</th>\n      <th>CALB2</th>\n      <th>DACH1</th>\n      <th>FMO2</th>\n      <th>ZNF708</th>\n      <th>...</th>\n      <th>KIF16B</th>\n      <th>CYP4F2</th>\n      <th>TENM1</th>\n      <th>BATF3</th>\n      <th>PPP6R1</th>\n      <th>OR8D4</th>\n      <th>cancer type abbreviation</th>\n      <th>age_at_initial_pathologic_diagnosis</th>\n      <th>gender</th>\n      <th>race</th>\n    </tr>\n    <tr>\n      <th>Unnamed: 0</th>\n      <th></th>\n      <th></th>\n      <th></th>\n      <th></th>\n      <th></th>\n      <th></th>\n      <th></th>\n      <th></th>\n      <th></th>\n      <th></th>\n      <th></th>\n      <th></th>\n      <th></th>\n      <th></th>\n      <th></th>\n      <th></th>\n      <th></th>\n      <th></th>\n      <th></th>\n      <th></th>\n      <th></th>\n    </tr>\n  </thead>\n  <tbody>\n    <tr>\n      <th>TCGA-02-0047-01</th>\n      <td>5.2698</td>\n      <td>3.0270</td>\n      <td>3.8876</td>\n      <td>-9.9658</td>\n      <td>9.0048</td>\n      <td>5.5361</td>\n      <td>1.1960</td>\n      <td>-2.3147</td>\n      <td>-2.2447</td>\n      <td>1.9452</td>\n      <td>...</td>\n      <td>2.2113</td>\n      <td>-1.3183</td>\n      <td>-0.4325</td>\n      <td>3.2143</td>\n      <td>4.6247</td>\n      <td>-9.9658</td>\n      <td>GBM</td>\n      <td>78.0</td>\n      <td>MALE</td>\n      <td>WHITE</td>\n    </tr>\n    <tr>\n      <th>TCGA-02-0055-01</th>\n      <td>4.9026</td>\n      <td>2.9243</td>\n      <td>3.0498</td>\n      <td>-5.5735</td>\n      <td>10.4794</td>\n      <td>5.5877</td>\n      <td>1.8363</td>\n      <td>-0.2671</td>\n      <td>-0.1504</td>\n      <td>0.0014</td>\n      <td>...</td>\n      <td>1.8996</td>\n      <td>-5.0116</td>\n      <td>-1.3548</td>\n      <td>4.1716</td>\n      <td>4.2563</td>\n      <td>-9.9658</td>\n      <td>GBM</td>\n      <td>62.0</td>\n      <td>FEMALE</td>\n      <td>WHITE</td>\n    </tr>\n    <tr>\n      <th>TCGA-02-2483-01</th>\n      <td>5.1260</td>\n      <td>2.8076</td>\n      <td>3.5754</td>\n      <td>-9.9658</td>\n      <td>10.5954</td>\n      <td>4.8500</td>\n      <td>0.5069</td>\n      <td>-0.6643</td>\n      <td>-4.6082</td>\n      <td>2.6940</td>\n      <td>...</td>\n      <td>0.0580</td>\n      <td>-9.9658</td>\n      <td>-4.6082</td>\n      <td>2.1988</td>\n      <td>4.2412</td>\n      <td>-9.9658</td>\n      <td>GBM</td>\n      <td>43.0</td>\n      <td>MALE</td>\n      <td>ASIAN</td>\n    </tr>\n    <tr>\n      <th>TCGA-02-2485-01</th>\n      <td>5.9409</td>\n      <td>3.5224</td>\n      <td>3.9746</td>\n      <td>-6.5064</td>\n      <td>9.8786</td>\n      <td>5.4383</td>\n      <td>0.2522</td>\n      <td>-0.9686</td>\n      <td>-1.5522</td>\n      <td>2.8158</td>\n      <td>...</td>\n      <td>1.1184</td>\n      <td>-5.5735</td>\n      <td>1.1250</td>\n      <td>3.0791</td>\n      <td>4.7132</td>\n      <td>-9.9658</td>\n      <td>GBM</td>\n      <td>53.0</td>\n      <td>MALE</td>\n      <td>BLACK OR AFRICAN AMERICAN</td>\n    </tr>\n    <tr>\n      <th>TCGA-04-1331-01</th>\n      <td>4.7005</td>\n      <td>1.3567</td>\n      <td>5.1639</td>\n      <td>-1.1811</td>\n      <td>8.7960</td>\n      <td>3.7400</td>\n      <td>2.5137</td>\n      <td>3.0706</td>\n      <td>-0.7108</td>\n      <td>0.9115</td>\n      <td>...</td>\n      <td>2.3394</td>\n      <td>-5.5735</td>\n      <td>-4.2934</td>\n      <td>0.9642</td>\n      <td>4.8218</td>\n      <td>-9.9658</td>\n      <td>OV</td>\n      <td>78.0</td>\n      <td>FEMALE</td>\n      <td>WHITE</td>\n    </tr>\n    <tr>\n      <th>...</th>\n      <td>...</td>\n      <td>...</td>\n      <td>...</td>\n      <td>...</td>\n      <td>...</td>\n      <td>...</td>\n      <td>...</td>\n      <td>...</td>\n      <td>...</td>\n      <td>...</td>\n      <td>...</td>\n      <td>...</td>\n      <td>...</td>\n      <td>...</td>\n      <td>...</td>\n      <td>...</td>\n      <td>...</td>\n      <td>...</td>\n      <td>...</td>\n      <td>...</td>\n      <td>...</td>\n    </tr>\n    <tr>\n      <th>TCGA-ZS-A9CF-02</th>\n      <td>3.3535</td>\n      <td>-0.2159</td>\n      <td>3.1095</td>\n      <td>-9.9658</td>\n      <td>9.4021</td>\n      <td>4.2743</td>\n      <td>-5.5735</td>\n      <td>-4.2934</td>\n      <td>-1.7322</td>\n      <td>-0.2159</td>\n      <td>...</td>\n      <td>0.8647</td>\n      <td>6.3266</td>\n      <td>-0.6416</td>\n      <td>-0.2159</td>\n      <td>3.3307</td>\n      <td>-9.9658</td>\n      <td>LIHC</td>\n      <td>64.0</td>\n      <td>MALE</td>\n      <td>WHITE</td>\n    </tr>\n    <tr>\n      <th>TCGA-ZS-A9CG-01</th>\n      <td>3.5262</td>\n      <td>0.6699</td>\n      <td>2.4359</td>\n      <td>-9.9658</td>\n      <td>8.7991</td>\n      <td>3.8330</td>\n      <td>-3.3076</td>\n      <td>-2.9324</td>\n      <td>0.1257</td>\n      <td>-1.8314</td>\n      <td>...</td>\n      <td>2.0183</td>\n      <td>5.8352</td>\n      <td>-2.2447</td>\n      <td>-0.5332</td>\n      <td>3.4384</td>\n      <td>-9.9658</td>\n      <td>LIHC</td>\n      <td>55.0</td>\n      <td>MALE</td>\n      <td>WHITE</td>\n    </tr>\n    <tr>\n      <th>TCGA-ZT-A8OM-01</th>\n      <td>6.0219</td>\n      <td>-0.1665</td>\n      <td>2.6962</td>\n      <td>-4.0350</td>\n      <td>12.3251</td>\n      <td>3.7720</td>\n      <td>-0.9971</td>\n      <td>-1.5105</td>\n      <td>-1.9379</td>\n      <td>-0.9686</td>\n      <td>...</td>\n      <td>-1.5522</td>\n      <td>-2.4659</td>\n      <td>-0.4921</td>\n      <td>2.9729</td>\n      <td>6.6918</td>\n      <td>-9.9658</td>\n      <td>THYM</td>\n      <td>73.0</td>\n      <td>FEMALE</td>\n      <td>WHITE</td>\n    </tr>\n    <tr>\n      <th>TCGA-ZU-A8S4-01</th>\n      <td>5.0631</td>\n      <td>2.9784</td>\n      <td>3.5212</td>\n      <td>-5.5735</td>\n      <td>9.6838</td>\n      <td>5.0466</td>\n      <td>1.3956</td>\n      <td>-2.1140</td>\n      <td>-1.4699</td>\n      <td>0.3231</td>\n      <td>...</td>\n      <td>1.4704</td>\n      <td>-0.1031</td>\n      <td>-5.5735</td>\n      <td>2.4386</td>\n      <td>4.8530</td>\n      <td>-9.9658</td>\n      <td>CHOL</td>\n      <td>52.0</td>\n      <td>MALE</td>\n      <td>WHITE</td>\n    </tr>\n    <tr>\n      <th>TCGA-ZX-AA5X-01</th>\n      <td>4.5021</td>\n      <td>2.4883</td>\n      <td>4.2914</td>\n      <td>-1.3921</td>\n      <td>9.6675</td>\n      <td>5.3768</td>\n      <td>1.0779</td>\n      <td>-0.9406</td>\n      <td>3.7699</td>\n      <td>0.8327</td>\n      <td>...</td>\n      <td>2.0776</td>\n      <td>-4.0350</td>\n      <td>-9.9658</td>\n      <td>1.5950</td>\n      <td>4.8900</td>\n      <td>-9.9658</td>\n      <td>CESC</td>\n      <td>64.0</td>\n      <td>FEMALE</td>\n      <td>WHITE</td>\n    </tr>\n  </tbody>\n</table>\n<p>9784 rows × 19242 columns</p>\n</div>"
          },
          "metadata": {}
        }
      ]
    },
    {
      "cell_type": "code",
      "source": [
        "cancer_names= gene_symbol_mapping['cancer type abbreviation'].unique()"
      ],
      "metadata": {
        "id": "dqIYiiAZgGao",
        "execution": {
          "iopub.status.busy": "2023-03-07T16:45:01.715534Z",
          "iopub.execute_input": "2023-03-07T16:45:01.715966Z",
          "iopub.status.idle": "2023-03-07T16:45:01.726175Z",
          "shell.execute_reply.started": "2023-03-07T16:45:01.715927Z",
          "shell.execute_reply": "2023-03-07T16:45:01.724340Z"
        },
        "trusted": true
      },
      "execution_count": null,
      "outputs": []
    },
    {
      "cell_type": "code",
      "source": [
        "gene_symbol_mapping['age_at_initial_pathologic_diagnosis']= gene_symbol_mapping['age_at_initial_pathologic_diagnosis'].astype(str)\n",
        "\n",
        "d = defaultdict(LabelEncoder)\n",
        "columns_to_encode = [\n",
        "    \"cancer type abbreviation\",\n",
        "    \"age_at_initial_pathologic_diagnosis\",\n",
        "    \"gender\",\n",
        "    \"race\"\n",
        "]\n",
        "\n",
        "gene_symbol_mapping.loc[:,columns_to_encode] = gene_symbol_mapping.loc[:,columns_to_encode].apply(lambda x: d[x.name].fit_transform(x.fillna('0')))\n",
        "gene_symbol_mapping.info()"
      ],
      "metadata": {
        "colab": {
          "base_uri": "https://localhost:8080/"
        },
        "id": "pBtcUyO_gGao",
        "outputId": "ec3697c4-e846-4f99-aab8-e2d95bc91889",
        "execution": {
          "iopub.status.busy": "2023-03-07T16:45:01.728911Z",
          "iopub.execute_input": "2023-03-07T16:45:01.729357Z",
          "iopub.status.idle": "2023-03-07T16:45:03.623360Z",
          "shell.execute_reply.started": "2023-03-07T16:45:01.729317Z",
          "shell.execute_reply": "2023-03-07T16:45:03.621830Z"
        },
        "trusted": true
      },
      "execution_count": null,
      "outputs": [
        {
          "name": "stdout",
          "text": "<class 'pandas.core.frame.DataFrame'>\nIndex: 9784 entries, TCGA-02-0047-01 to TCGA-ZX-AA5X-01\nColumns: 19242 entries, RAB4B to race\ndtypes: float64(19238), int64(4)\nmemory usage: 1.4+ GB\n",
          "output_type": "stream"
        }
      ]
    },
    {
      "cell_type": "code",
      "source": [
        "cancer_nums= gene_symbol_mapping['cancer type abbreviation'].unique()\n",
        "cancer_name_num_dict = dict(zip(cancer_nums, cancer_names))\n"
      ],
      "metadata": {
        "id": "ABGa_kwvgGap",
        "execution": {
          "iopub.status.busy": "2023-03-07T16:45:03.624815Z",
          "iopub.execute_input": "2023-03-07T16:45:03.625171Z",
          "iopub.status.idle": "2023-03-07T16:45:03.632835Z",
          "shell.execute_reply.started": "2023-03-07T16:45:03.625138Z",
          "shell.execute_reply": "2023-03-07T16:45:03.631664Z"
        },
        "trusted": true
      },
      "execution_count": null,
      "outputs": []
    },
    {
      "cell_type": "code",
      "source": [
        "gene_symbol_mapping_dummies = gene_symbol_mapping.copy()\n",
        "gene_symbol_mapping_dummies = pd.get_dummies(gene_symbol_mapping_dummies)\n",
        "\n",
        "X = gene_symbol_mapping_dummies.copy()\n",
        "y = gene_symbol_mapping_dummies['cancer type abbreviation'].copy()"
      ],
      "metadata": {
        "id": "aT73urLHgGaq",
        "execution": {
          "iopub.status.busy": "2023-03-07T16:45:03.634626Z",
          "iopub.execute_input": "2023-03-07T16:45:03.634997Z",
          "iopub.status.idle": "2023-03-07T16:45:06.106091Z",
          "shell.execute_reply.started": "2023-03-07T16:45:03.634965Z",
          "shell.execute_reply": "2023-03-07T16:45:06.104350Z"
        },
        "trusted": true
      },
      "execution_count": null,
      "outputs": []
    },
    {
      "cell_type": "markdown",
      "source": [
        "# load the datasets"
      ],
      "metadata": {
        "id": "mmV1D3HPUXBT"
      }
    },
    {
      "cell_type": "code",
      "source": [
        "!gdown 15sUdoFB8qTwcsGyPky2CmDwmRi5f5KZP"
      ],
      "metadata": {
        "colab": {
          "base_uri": "https://localhost:8080/"
        },
        "id": "yMVOgWCj1ge5",
        "outputId": "8a2f9836-1914-4a23-f87f-6c76b6c8241c",
        "execution": {
          "iopub.status.busy": "2023-04-02T12:41:29.738832Z",
          "iopub.execute_input": "2023-04-02T12:41:29.739197Z",
          "iopub.status.idle": "2023-04-02T12:41:50.521747Z",
          "shell.execute_reply.started": "2023-04-02T12:41:29.739160Z",
          "shell.execute_reply": "2023-04-02T12:41:50.520575Z"
        },
        "trusted": true
      },
      "execution_count": null,
      "outputs": [
        {
          "output_type": "stream",
          "name": "stdout",
          "text": [
            "Downloading...\n",
            "From (uriginal): https://drive.google.com/uc?id=15sUdoFB8qTwcsGyPky2CmDwmRi5f5KZP\n",
            "From (redirected): https://drive.google.com/uc?id=15sUdoFB8qTwcsGyPky2CmDwmRi5f5KZP&confirm=t&uuid=c499bdff-0ed4-4930-9e96-1bfb0db67c1e\n",
            "To: /content/data.zip\n",
            "100% 2.42G/2.42G [00:21<00:00, 110MB/s] \n"
          ]
        }
      ]
    },
    {
      "cell_type": "code",
      "source": [
        "# !unzip /content/data.zip\n",
        "!unzip ./data.zip"
      ],
      "metadata": {
        "colab": {
          "base_uri": "https://localhost:8080/"
        },
        "id": "hNKd2w9V_X8H",
        "outputId": "53b09a77-5871-4895-b820-332e47a3c37f",
        "execution": {
          "iopub.status.busy": "2023-04-02T12:41:50.523986Z",
          "iopub.execute_input": "2023-04-02T12:41:50.524649Z",
          "iopub.status.idle": "2023-04-02T12:42:59.038725Z",
          "shell.execute_reply.started": "2023-04-02T12:41:50.524600Z",
          "shell.execute_reply": "2023-04-02T12:42:59.036939Z"
        },
        "trusted": true
      },
      "execution_count": null,
      "outputs": [
        {
          "output_type": "stream",
          "name": "stdout",
          "text": [
            "Archive:  ./data.zip\n",
            "  inflating: test_split_1.csv        \n",
            "  inflating: test_split_2.csv        \n",
            "  inflating: test_split_3.csv        \n",
            "  inflating: test_split_4.csv        \n",
            "  inflating: test_split_5.csv        \n",
            "  inflating: train_split_1.csv       \n",
            "  inflating: train_split_2.csv       \n",
            "  inflating: train_split_3.csv       \n",
            "  inflating: train_split_4.csv       \n",
            "  inflating: train_split_5.csv       \n"
          ]
        }
      ]
    },
    {
      "cell_type": "code",
      "source": [
        "# from google.colab import drive\n",
        "# drive.mount('/content/gdrive')"
      ],
      "metadata": {
        "colab": {
          "base_uri": "https://localhost:8080/"
        },
        "id": "iNBavRVEAYmy",
        "outputId": "9a99c8ee-c2d5-41f1-e1e8-7eaf98becc3f"
      },
      "execution_count": null,
      "outputs": [
        {
          "output_type": "stream",
          "name": "stdout",
          "text": "Mounted at /content/gdrive\n"
        }
      ]
    },
    {
      "cell_type": "code",
      "source": [
        "columns_to_drop = [\n",
        "    \"cancer type abbreviation\",\n",
        "    \"age_at_initial_pathologic_diagnosis\",\n",
        "    \"gender\",\n",
        "    \"race\"\n",
        "]"
      ],
      "metadata": {
        "id": "je_X1G8IHI0E",
        "execution": {
          "iopub.status.busy": "2023-04-02T13:54:58.562291Z",
          "iopub.execute_input": "2023-04-02T13:54:58.563099Z",
          "iopub.status.idle": "2023-04-02T13:54:58.568582Z",
          "shell.execute_reply.started": "2023-04-02T13:54:58.563057Z",
          "shell.execute_reply": "2023-04-02T13:54:58.567382Z"
        },
        "trusted": true
      },
      "execution_count": null,
      "outputs": []
    },
    {
      "cell_type": "code",
      "source": [
        "MAX_EPOCHS = 200\n",
        "BATCH_SIZE = 512\n",
        "VIRTUAL_BATCH_SIZE = 128\n",
        "DEVICE = 'cuda' if torch.cuda.is_available() else 'cpu'\n",
        "\n",
        "print(\"Using {}\".format(DEVICE))"
      ],
      "metadata": {
        "execution": {
          "iopub.status.busy": "2023-04-02T13:56:54.868985Z",
          "iopub.execute_input": "2023-04-02T13:56:54.869444Z",
          "iopub.status.idle": "2023-04-02T13:56:57.632538Z",
          "shell.execute_reply.started": "2023-04-02T13:56:54.869399Z",
          "shell.execute_reply": "2023-04-02T13:56:57.631411Z"
        },
        "trusted": true,
        "colab": {
          "base_uri": "https://localhost:8080/"
        },
        "id": "AtAHC0R2Ni_q",
        "outputId": "131eea4e-bb96-437b-b577-3eb445e56416"
      },
      "execution_count": null,
      "outputs": [
        {
          "output_type": "stream",
          "name": "stdout",
          "text": [
            "Using cuda\n"
          ]
        }
      ]
    },
    {
      "cell_type": "code",
      "source": [
        "def tabNetClassifier(X_train,y_train,model_name):\n",
        "  X_train_1,X_valid_1,y_train_1 , y_valid_1  = train_test_split(X_train1,y_train1, test_size=0.2, random_state = 42, stratify=y_train1)\n",
        "  model= TabNetClassifier(optimizer_fn=torch.optim.Adam,\n",
        "                       scheduler_params={\"step_size\":10, \n",
        "                                         \"gamma\":0.9},\n",
        "                       scheduler_fn=torch.optim.lr_scheduler.StepLR,\n",
        "                       device_name = DEVICE,\n",
        "                      )\n",
        "  model.fit(\n",
        "    X_train_1.values,y_train_1.values,\n",
        "    eval_set=[(X_valid_1.values, y_valid_1.values)],\n",
        "    eval_metric=['accuracy'],\n",
        "    max_epochs=150, patience=60,\n",
        "    batch_size=512, virtual_batch_size=512,\n",
        "    num_workers=0,\n",
        "    weights=1,\n",
        "    drop_last=False\n",
        "  )\n",
        "\n",
        "  joblib.dump(model, model_name)\n",
        "  # loaded_model = joblib.load('tabnet_model_1.pkl')\n",
        "\n",
        "   \n",
        "\n",
        "  return model  "
      ],
      "metadata": {
        "id": "jkArUfWihorc"
      },
      "execution_count": null,
      "outputs": []
    },
    {
      "cell_type": "code",
      "source": [
        "def plot_conf_matrix(cm, y_test):\n",
        "    labels=unique_labels(y_test)\n",
        "    cancer_names=[]\n",
        "    for i in labels:\n",
        "        if i in cancer_name_num_dict.keys():\n",
        "            cancer_names.append(cancer_name_num_dict[i])\n",
        "    \n",
        "    column= [f'Predict_{cancer_name}' for cancer_name in cancer_names]\n",
        "    indices= [f'Actual_{cancer_name}' for cancer_name in cancer_names]\n",
        "    \n",
        "    table= pd.DataFrame(cm, columns=column, index=indices)\n",
        "    \n",
        "    fig, ax = pyplot.subplots(figsize=(12,12))         # Sample figsize in inches\n",
        "\n",
        "    return sn.heatmap(table, annot=True, fmt=\"d\",  linewidths=.5, ax=ax)"
      ],
      "metadata": {
        "id": "L8xHwnzTgGau",
        "execution": {
          "iopub.status.busy": "2023-03-07T16:55:11.576810Z",
          "iopub.execute_input": "2023-03-07T16:55:11.577364Z",
          "iopub.status.idle": "2023-03-07T16:55:11.596616Z",
          "shell.execute_reply.started": "2023-03-07T16:55:11.577315Z",
          "shell.execute_reply": "2023-03-07T16:55:11.595420Z"
        },
        "trusted": true
      },
      "execution_count": null,
      "outputs": []
    },
    {
      "cell_type": "code",
      "source": [
        "def classificationReport(model,X_test,y_test):\n",
        "  y_pred=model.predict(X_test.values)\n",
        "\n",
        "  cm=(confusion_matrix(y_test, y_pred))\n",
        "  plot_conf_matrix(cm,y_test)\n",
        "\n",
        "  predictions = [round(value) for value in y_pred]\n",
        "  # evaluate predictions\n",
        "  accuracy = accuracy_score(y_test, predictions)\n",
        "  print(\"Accuracy: %.2f%%\" % (accuracy * 100.0))\n",
        "\n",
        "  # precision tp / (tp + fp)\n",
        "  # precision = precision_score(y_test, predictions, average=None)\n",
        "  # print('Precision for every class: %f' % precision.astype(str))\n",
        "  precision = precision_score(y_test, predictions, average='macro')\n",
        "  print('Precision for all class: %f' % precision)\n",
        "\n",
        "  # recall: tp / (tp + fn)\n",
        "  recall = recall_score(y_test, predictions,average='macro')\n",
        "  print('Recall: %f' % recall)\n",
        "  # f1: 2 tp / (2 tp + fp + fn)\n",
        "  f1 = f1_score(y_test, predictions, average='macro')\n",
        "  print('F1 score: %f' % f1)\n",
        "\n",
        "  return accuracy, precision, recall, f1, cm\n"
      ],
      "metadata": {
        "id": "bXKZ-smIaDIr"
      },
      "execution_count": null,
      "outputs": []
    },
    {
      "cell_type": "markdown",
      "source": [
        "# 1"
      ],
      "metadata": {
        "id": "IP61XtNVYNwD"
      }
    },
    {
      "cell_type": "code",
      "source": [
        "test_split_1= pd.read_csv(\"./test_split_1.csv\", sep=',')\n",
        "test_split_1"
      ],
      "metadata": {
        "colab": {
          "base_uri": "https://localhost:8080/",
          "height": 505
        },
        "id": "wbkBAPtICrgZ",
        "outputId": "df08db3b-3bf8-4995-f835-346e11ec3207",
        "execution": {
          "iopub.status.busy": "2023-04-02T13:55:00.972506Z",
          "iopub.execute_input": "2023-04-02T13:55:00.972942Z",
          "iopub.status.idle": "2023-04-02T13:55:20.833286Z",
          "shell.execute_reply.started": "2023-04-02T13:55:00.972904Z",
          "shell.execute_reply": "2023-04-02T13:55:20.832059Z"
        },
        "trusted": true
      },
      "execution_count": null,
      "outputs": [
        {
          "output_type": "execute_result",
          "data": {
            "text/plain": [
              "       RAB4B   TIGAR   RNF44   DNAH3   RPL23A   ARL8B   CALB2   DACH1    FMO2  \\\n",
              "0     5.2698  3.0270  3.8876 -9.9658   9.0048  5.5361  1.1960 -2.3147 -2.2447   \n",
              "1     4.9026  2.9243  3.0498 -5.5735  10.4794  5.5877  1.8363 -0.2671 -0.1504   \n",
              "2     5.1260  2.8076  3.5754 -9.9658  10.5954  4.8500  0.5069 -0.6643 -4.6082   \n",
              "3     5.9409  3.5224  3.9746 -6.5064   9.8786  5.4383  0.2522 -0.9686 -1.5522   \n",
              "4     4.7005  1.3567  5.1639 -1.1811   8.7960  3.7400  2.5137  3.0706 -0.7108   \n",
              "...      ...     ...     ...     ...      ...     ...     ...     ...     ...   \n",
              "1952  4.9878  3.2915  3.6939 -4.0350  10.2184  4.4437 -6.5064 -5.0116 -9.9658   \n",
              "1953  5.5420  2.5213  3.8993 -5.5735  10.2946  4.6600 -9.9658 -4.0350 -2.6349   \n",
              "1954  4.9050  1.4441  3.9506 -9.9658  10.2031  5.0282 -9.9658 -3.6259 -2.8262   \n",
              "1955  5.5305  3.3148  3.4752 -3.1714  10.2961  4.1828 -1.2142 -5.5735 -6.5064   \n",
              "1956  3.6242  1.3846  4.4582 -9.9658   9.7990  5.0981  2.4649 -2.1779 -0.9971   \n",
              "\n",
              "      ZNF708  ...  KIF16B  CYP4F2   TENM1   BATF3  PPP6R1   OR8D4  \\\n",
              "0     1.9452  ...  2.2113 -1.3183 -0.4325  3.2143  4.6247 -9.9658   \n",
              "1     0.0014  ...  1.8996 -5.0116 -1.3548  4.1716  4.2563 -9.9658   \n",
              "2     2.6940  ...  0.0580 -9.9658 -4.6082  2.1988  4.2412 -9.9658   \n",
              "3     2.8158  ...  1.1184 -5.5735  1.1250  3.0791  4.7132 -9.9658   \n",
              "4     0.9115  ...  2.3394 -5.5735 -4.2934  0.9642  4.8218 -9.9658   \n",
              "...      ...  ...     ...     ...     ...     ...     ...     ...   \n",
              "1952  0.1648  ...  1.5064 -9.9658 -4.0350  1.5854  4.9132 -9.9658   \n",
              "1953 -0.8339  ...  2.1147 -9.9658 -9.9658 -1.6394  5.3548 -9.9658   \n",
              "1954  1.1117  ...  2.2513 -9.9658 -6.5064 -0.2845  5.0618 -9.9658   \n",
              "1955  0.1519  ...  1.6234 -9.9658 -5.5735  2.0946  4.9778 -9.9658   \n",
              "1956  0.3573  ...  1.5013  3.1637 -2.8262  1.4174  4.9199 -9.9658   \n",
              "\n",
              "      cancer type abbreviation  age_at_initial_pathologic_diagnosis  gender  \\\n",
              "0                            8                                   64       1   \n",
              "1                            8                                   48       0   \n",
              "2                            8                                   29       1   \n",
              "3                            8                                   39       1   \n",
              "4                           19                                   64       0   \n",
              "...                        ...                                  ...     ...   \n",
              "1952                        32                                   64       1   \n",
              "1953                        32                                   24       1   \n",
              "1954                        32                                   23       0   \n",
              "1955                        32                                   46       1   \n",
              "1956                         4                                   48       0   \n",
              "\n",
              "      race  \n",
              "0        5  \n",
              "1        5  \n",
              "2        2  \n",
              "3        3  \n",
              "4        5  \n",
              "...    ...  \n",
              "1952     5  \n",
              "1953     5  \n",
              "1954     5  \n",
              "1955     5  \n",
              "1956     5  \n",
              "\n",
              "[1957 rows x 19242 columns]"
            ],
            "text/html": [
              "\n",
              "  <div id=\"df-3ec445bd-39e7-47e7-af61-2ce617c96f15\">\n",
              "    <div class=\"colab-df-container\">\n",
              "      <div>\n",
              "<style scoped>\n",
              "    .dataframe tbody tr th:only-of-type {\n",
              "        vertical-align: middle;\n",
              "    }\n",
              "\n",
              "    .dataframe tbody tr th {\n",
              "        vertical-align: top;\n",
              "    }\n",
              "\n",
              "    .dataframe thead th {\n",
              "        text-align: right;\n",
              "    }\n",
              "</style>\n",
              "<table border=\"1\" class=\"dataframe\">\n",
              "  <thead>\n",
              "    <tr style=\"text-align: right;\">\n",
              "      <th></th>\n",
              "      <th>RAB4B</th>\n",
              "      <th>TIGAR</th>\n",
              "      <th>RNF44</th>\n",
              "      <th>DNAH3</th>\n",
              "      <th>RPL23A</th>\n",
              "      <th>ARL8B</th>\n",
              "      <th>CALB2</th>\n",
              "      <th>DACH1</th>\n",
              "      <th>FMO2</th>\n",
              "      <th>ZNF708</th>\n",
              "      <th>...</th>\n",
              "      <th>KIF16B</th>\n",
              "      <th>CYP4F2</th>\n",
              "      <th>TENM1</th>\n",
              "      <th>BATF3</th>\n",
              "      <th>PPP6R1</th>\n",
              "      <th>OR8D4</th>\n",
              "      <th>cancer type abbreviation</th>\n",
              "      <th>age_at_initial_pathologic_diagnosis</th>\n",
              "      <th>gender</th>\n",
              "      <th>race</th>\n",
              "    </tr>\n",
              "  </thead>\n",
              "  <tbody>\n",
              "    <tr>\n",
              "      <th>0</th>\n",
              "      <td>5.2698</td>\n",
              "      <td>3.0270</td>\n",
              "      <td>3.8876</td>\n",
              "      <td>-9.9658</td>\n",
              "      <td>9.0048</td>\n",
              "      <td>5.5361</td>\n",
              "      <td>1.1960</td>\n",
              "      <td>-2.3147</td>\n",
              "      <td>-2.2447</td>\n",
              "      <td>1.9452</td>\n",
              "      <td>...</td>\n",
              "      <td>2.2113</td>\n",
              "      <td>-1.3183</td>\n",
              "      <td>-0.4325</td>\n",
              "      <td>3.2143</td>\n",
              "      <td>4.6247</td>\n",
              "      <td>-9.9658</td>\n",
              "      <td>8</td>\n",
              "      <td>64</td>\n",
              "      <td>1</td>\n",
              "      <td>5</td>\n",
              "    </tr>\n",
              "    <tr>\n",
              "      <th>1</th>\n",
              "      <td>4.9026</td>\n",
              "      <td>2.9243</td>\n",
              "      <td>3.0498</td>\n",
              "      <td>-5.5735</td>\n",
              "      <td>10.4794</td>\n",
              "      <td>5.5877</td>\n",
              "      <td>1.8363</td>\n",
              "      <td>-0.2671</td>\n",
              "      <td>-0.1504</td>\n",
              "      <td>0.0014</td>\n",
              "      <td>...</td>\n",
              "      <td>1.8996</td>\n",
              "      <td>-5.0116</td>\n",
              "      <td>-1.3548</td>\n",
              "      <td>4.1716</td>\n",
              "      <td>4.2563</td>\n",
              "      <td>-9.9658</td>\n",
              "      <td>8</td>\n",
              "      <td>48</td>\n",
              "      <td>0</td>\n",
              "      <td>5</td>\n",
              "    </tr>\n",
              "    <tr>\n",
              "      <th>2</th>\n",
              "      <td>5.1260</td>\n",
              "      <td>2.8076</td>\n",
              "      <td>3.5754</td>\n",
              "      <td>-9.9658</td>\n",
              "      <td>10.5954</td>\n",
              "      <td>4.8500</td>\n",
              "      <td>0.5069</td>\n",
              "      <td>-0.6643</td>\n",
              "      <td>-4.6082</td>\n",
              "      <td>2.6940</td>\n",
              "      <td>...</td>\n",
              "      <td>0.0580</td>\n",
              "      <td>-9.9658</td>\n",
              "      <td>-4.6082</td>\n",
              "      <td>2.1988</td>\n",
              "      <td>4.2412</td>\n",
              "      <td>-9.9658</td>\n",
              "      <td>8</td>\n",
              "      <td>29</td>\n",
              "      <td>1</td>\n",
              "      <td>2</td>\n",
              "    </tr>\n",
              "    <tr>\n",
              "      <th>3</th>\n",
              "      <td>5.9409</td>\n",
              "      <td>3.5224</td>\n",
              "      <td>3.9746</td>\n",
              "      <td>-6.5064</td>\n",
              "      <td>9.8786</td>\n",
              "      <td>5.4383</td>\n",
              "      <td>0.2522</td>\n",
              "      <td>-0.9686</td>\n",
              "      <td>-1.5522</td>\n",
              "      <td>2.8158</td>\n",
              "      <td>...</td>\n",
              "      <td>1.1184</td>\n",
              "      <td>-5.5735</td>\n",
              "      <td>1.1250</td>\n",
              "      <td>3.0791</td>\n",
              "      <td>4.7132</td>\n",
              "      <td>-9.9658</td>\n",
              "      <td>8</td>\n",
              "      <td>39</td>\n",
              "      <td>1</td>\n",
              "      <td>3</td>\n",
              "    </tr>\n",
              "    <tr>\n",
              "      <th>4</th>\n",
              "      <td>4.7005</td>\n",
              "      <td>1.3567</td>\n",
              "      <td>5.1639</td>\n",
              "      <td>-1.1811</td>\n",
              "      <td>8.7960</td>\n",
              "      <td>3.7400</td>\n",
              "      <td>2.5137</td>\n",
              "      <td>3.0706</td>\n",
              "      <td>-0.7108</td>\n",
              "      <td>0.9115</td>\n",
              "      <td>...</td>\n",
              "      <td>2.3394</td>\n",
              "      <td>-5.5735</td>\n",
              "      <td>-4.2934</td>\n",
              "      <td>0.9642</td>\n",
              "      <td>4.8218</td>\n",
              "      <td>-9.9658</td>\n",
              "      <td>19</td>\n",
              "      <td>64</td>\n",
              "      <td>0</td>\n",
              "      <td>5</td>\n",
              "    </tr>\n",
              "    <tr>\n",
              "      <th>...</th>\n",
              "      <td>...</td>\n",
              "      <td>...</td>\n",
              "      <td>...</td>\n",
              "      <td>...</td>\n",
              "      <td>...</td>\n",
              "      <td>...</td>\n",
              "      <td>...</td>\n",
              "      <td>...</td>\n",
              "      <td>...</td>\n",
              "      <td>...</td>\n",
              "      <td>...</td>\n",
              "      <td>...</td>\n",
              "      <td>...</td>\n",
              "      <td>...</td>\n",
              "      <td>...</td>\n",
              "      <td>...</td>\n",
              "      <td>...</td>\n",
              "      <td>...</td>\n",
              "      <td>...</td>\n",
              "      <td>...</td>\n",
              "      <td>...</td>\n",
              "    </tr>\n",
              "    <tr>\n",
              "      <th>1952</th>\n",
              "      <td>4.9878</td>\n",
              "      <td>3.2915</td>\n",
              "      <td>3.6939</td>\n",
              "      <td>-4.0350</td>\n",
              "      <td>10.2184</td>\n",
              "      <td>4.4437</td>\n",
              "      <td>-6.5064</td>\n",
              "      <td>-5.0116</td>\n",
              "      <td>-9.9658</td>\n",
              "      <td>0.1648</td>\n",
              "      <td>...</td>\n",
              "      <td>1.5064</td>\n",
              "      <td>-9.9658</td>\n",
              "      <td>-4.0350</td>\n",
              "      <td>1.5854</td>\n",
              "      <td>4.9132</td>\n",
              "      <td>-9.9658</td>\n",
              "      <td>32</td>\n",
              "      <td>64</td>\n",
              "      <td>1</td>\n",
              "      <td>5</td>\n",
              "    </tr>\n",
              "    <tr>\n",
              "      <th>1953</th>\n",
              "      <td>5.5420</td>\n",
              "      <td>2.5213</td>\n",
              "      <td>3.8993</td>\n",
              "      <td>-5.5735</td>\n",
              "      <td>10.2946</td>\n",
              "      <td>4.6600</td>\n",
              "      <td>-9.9658</td>\n",
              "      <td>-4.0350</td>\n",
              "      <td>-2.6349</td>\n",
              "      <td>-0.8339</td>\n",
              "      <td>...</td>\n",
              "      <td>2.1147</td>\n",
              "      <td>-9.9658</td>\n",
              "      <td>-9.9658</td>\n",
              "      <td>-1.6394</td>\n",
              "      <td>5.3548</td>\n",
              "      <td>-9.9658</td>\n",
              "      <td>32</td>\n",
              "      <td>24</td>\n",
              "      <td>1</td>\n",
              "      <td>5</td>\n",
              "    </tr>\n",
              "    <tr>\n",
              "      <th>1954</th>\n",
              "      <td>4.9050</td>\n",
              "      <td>1.4441</td>\n",
              "      <td>3.9506</td>\n",
              "      <td>-9.9658</td>\n",
              "      <td>10.2031</td>\n",
              "      <td>5.0282</td>\n",
              "      <td>-9.9658</td>\n",
              "      <td>-3.6259</td>\n",
              "      <td>-2.8262</td>\n",
              "      <td>1.1117</td>\n",
              "      <td>...</td>\n",
              "      <td>2.2513</td>\n",
              "      <td>-9.9658</td>\n",
              "      <td>-6.5064</td>\n",
              "      <td>-0.2845</td>\n",
              "      <td>5.0618</td>\n",
              "      <td>-9.9658</td>\n",
              "      <td>32</td>\n",
              "      <td>23</td>\n",
              "      <td>0</td>\n",
              "      <td>5</td>\n",
              "    </tr>\n",
              "    <tr>\n",
              "      <th>1955</th>\n",
              "      <td>5.5305</td>\n",
              "      <td>3.3148</td>\n",
              "      <td>3.4752</td>\n",
              "      <td>-3.1714</td>\n",
              "      <td>10.2961</td>\n",
              "      <td>4.1828</td>\n",
              "      <td>-1.2142</td>\n",
              "      <td>-5.5735</td>\n",
              "      <td>-6.5064</td>\n",
              "      <td>0.1519</td>\n",
              "      <td>...</td>\n",
              "      <td>1.6234</td>\n",
              "      <td>-9.9658</td>\n",
              "      <td>-5.5735</td>\n",
              "      <td>2.0946</td>\n",
              "      <td>4.9778</td>\n",
              "      <td>-9.9658</td>\n",
              "      <td>32</td>\n",
              "      <td>46</td>\n",
              "      <td>1</td>\n",
              "      <td>5</td>\n",
              "    </tr>\n",
              "    <tr>\n",
              "      <th>1956</th>\n",
              "      <td>3.6242</td>\n",
              "      <td>1.3846</td>\n",
              "      <td>4.4582</td>\n",
              "      <td>-9.9658</td>\n",
              "      <td>9.7990</td>\n",
              "      <td>5.0981</td>\n",
              "      <td>2.4649</td>\n",
              "      <td>-2.1779</td>\n",
              "      <td>-0.9971</td>\n",
              "      <td>0.3573</td>\n",
              "      <td>...</td>\n",
              "      <td>1.5013</td>\n",
              "      <td>3.1637</td>\n",
              "      <td>-2.8262</td>\n",
              "      <td>1.4174</td>\n",
              "      <td>4.9199</td>\n",
              "      <td>-9.9658</td>\n",
              "      <td>4</td>\n",
              "      <td>48</td>\n",
              "      <td>0</td>\n",
              "      <td>5</td>\n",
              "    </tr>\n",
              "  </tbody>\n",
              "</table>\n",
              "<p>1957 rows × 19242 columns</p>\n",
              "</div>\n",
              "      <button class=\"colab-df-convert\" onclick=\"convertToInteractive('df-3ec445bd-39e7-47e7-af61-2ce617c96f15')\"\n",
              "              title=\"Convert this dataframe to an interactive table.\"\n",
              "              style=\"display:none;\">\n",
              "        \n",
              "  <svg xmlns=\"http://www.w3.org/2000/svg\" height=\"24px\"viewBox=\"0 0 24 24\"\n",
              "       width=\"24px\">\n",
              "    <path d=\"M0 0h24v24H0V0z\" fill=\"none\"/>\n",
              "    <path d=\"M18.56 5.44l.94 2.06.94-2.06 2.06-.94-2.06-.94-.94-2.06-.94 2.06-2.06.94zm-11 1L8.5 8.5l.94-2.06 2.06-.94-2.06-.94L8.5 2.5l-.94 2.06-2.06.94zm10 10l.94 2.06.94-2.06 2.06-.94-2.06-.94-.94-2.06-.94 2.06-2.06.94z\"/><path d=\"M17.41 7.96l-1.37-1.37c-.4-.4-.92-.59-1.43-.59-.52 0-1.04.2-1.43.59L10.3 9.45l-7.72 7.72c-.78.78-.78 2.05 0 2.83L4 21.41c.39.39.9.59 1.41.59.51 0 1.02-.2 1.41-.59l7.78-7.78 2.81-2.81c.8-.78.8-2.07 0-2.86zM5.41 20L4 18.59l7.72-7.72 1.47 1.35L5.41 20z\"/>\n",
              "  </svg>\n",
              "      </button>\n",
              "      \n",
              "  <style>\n",
              "    .colab-df-container {\n",
              "      display:flex;\n",
              "      flex-wrap:wrap;\n",
              "      gap: 12px;\n",
              "    }\n",
              "\n",
              "    .colab-df-convert {\n",
              "      background-color: #E8F0FE;\n",
              "      border: none;\n",
              "      border-radius: 50%;\n",
              "      cursor: pointer;\n",
              "      display: none;\n",
              "      fill: #1967D2;\n",
              "      height: 32px;\n",
              "      padding: 0 0 0 0;\n",
              "      width: 32px;\n",
              "    }\n",
              "\n",
              "    .colab-df-convert:hover {\n",
              "      background-color: #E2EBFA;\n",
              "      box-shadow: 0px 1px 2px rgba(60, 64, 67, 0.3), 0px 1px 3px 1px rgba(60, 64, 67, 0.15);\n",
              "      fill: #174EA6;\n",
              "    }\n",
              "\n",
              "    [theme=dark] .colab-df-convert {\n",
              "      background-color: #3B4455;\n",
              "      fill: #D2E3FC;\n",
              "    }\n",
              "\n",
              "    [theme=dark] .colab-df-convert:hover {\n",
              "      background-color: #434B5C;\n",
              "      box-shadow: 0px 1px 3px 1px rgba(0, 0, 0, 0.15);\n",
              "      filter: drop-shadow(0px 1px 2px rgba(0, 0, 0, 0.3));\n",
              "      fill: #FFFFFF;\n",
              "    }\n",
              "  </style>\n",
              "\n",
              "      <script>\n",
              "        const buttonEl =\n",
              "          document.querySelector('#df-3ec445bd-39e7-47e7-af61-2ce617c96f15 button.colab-df-convert');\n",
              "        buttonEl.style.display =\n",
              "          google.colab.kernel.accessAllowed ? 'block' : 'none';\n",
              "\n",
              "        async function convertToInteractive(key) {\n",
              "          const element = document.querySelector('#df-3ec445bd-39e7-47e7-af61-2ce617c96f15');\n",
              "          const dataTable =\n",
              "            await google.colab.kernel.invokeFunction('convertToInteractive',\n",
              "                                                     [key], {});\n",
              "          if (!dataTable) return;\n",
              "\n",
              "          const docLinkHtml = 'Like what you see? Visit the ' +\n",
              "            '<a target=\"_blank\" href=https://colab.research.google.com/notebooks/data_table.ipynb>data table notebook</a>'\n",
              "            + ' to learn more about interactive tables.';\n",
              "          element.innerHTML = '';\n",
              "          dataTable['output_type'] = 'display_data';\n",
              "          await google.colab.output.renderOutput(dataTable, element);\n",
              "          const docLink = document.createElement('div');\n",
              "          docLink.innerHTML = docLinkHtml;\n",
              "          element.appendChild(docLink);\n",
              "        }\n",
              "      </script>\n",
              "    </div>\n",
              "  </div>\n",
              "  "
            ]
          },
          "metadata": {},
          "execution_count": 7
        }
      ]
    },
    {
      "cell_type": "code",
      "source": [
        "test_split_1_dummies = test_split_1.copy()\n",
        "test_split_1_dummies = pd.get_dummies(test_split_1_dummies)\n",
        "\n",
        "X_test_1 = test_split_1_dummies.drop(columns_to_drop, axis=1).copy()\n",
        "y_test_1 = test_split_1_dummies['cancer type abbreviation'].copy()"
      ],
      "metadata": {
        "id": "pKBdftcpEJbL",
        "execution": {
          "iopub.status.busy": "2023-04-02T13:55:20.835838Z",
          "iopub.execute_input": "2023-04-02T13:55:20.836479Z",
          "iopub.status.idle": "2023-04-02T13:55:21.364775Z",
          "shell.execute_reply.started": "2023-04-02T13:55:20.836438Z",
          "shell.execute_reply": "2023-04-02T13:55:21.363522Z"
        },
        "trusted": true
      },
      "execution_count": null,
      "outputs": []
    },
    {
      "cell_type": "code",
      "source": [
        "train_split_1= pd.read_csv(\"./train_split_1.csv\", sep=',')\n",
        "train_split_1"
      ],
      "metadata": {
        "colab": {
          "base_uri": "https://localhost:8080/",
          "height": 505
        },
        "id": "PZ5pKzUUVXou",
        "outputId": "9abf2f13-a33d-42a4-99b1-296359282040",
        "execution": {
          "iopub.status.busy": "2023-04-02T13:55:21.366321Z",
          "iopub.execute_input": "2023-04-02T13:55:21.366834Z",
          "iopub.status.idle": "2023-04-02T13:56:40.218546Z",
          "shell.execute_reply.started": "2023-04-02T13:55:21.366792Z",
          "shell.execute_reply": "2023-04-02T13:56:40.217190Z"
        },
        "trusted": true
      },
      "execution_count": null,
      "outputs": [
        {
          "output_type": "execute_result",
          "data": {
            "text/plain": [
              "       RAB4B   TIGAR   RNF44   DNAH3   RPL23A   ARL8B   CALB2   DACH1    FMO2  \\\n",
              "0     5.4680  3.5694  4.2126 -2.4659   9.0496  5.3636  0.6608 -0.6873 -2.6349   \n",
              "1     5.4787  2.7422  3.7571 -1.8836   9.6983  5.7642  0.1903 -0.3022 -1.3921   \n",
              "2     5.6994  3.0481  4.1094 -9.9658   9.9318  5.3155  1.8323  0.4967 -2.2447   \n",
              "3     6.2196  2.4985  3.8551 -3.4580   9.6547  5.2114 -2.3884 -1.8836 -1.5522   \n",
              "4     6.0540  2.3760  3.6972 -6.5064  10.0772  4.8783  0.3231  0.7321 -2.5479   \n",
              "...      ...     ...     ...     ...      ...     ...     ...     ...     ...   \n",
              "7822  3.3535 -0.2159  3.1095 -9.9658   9.4021  4.2743 -5.5735 -4.2934 -1.7322   \n",
              "7823  3.5262  0.6699  2.4359 -9.9658   8.7991  3.8330 -3.3076 -2.9324  0.1257   \n",
              "7824  6.0219 -0.1665  2.6962 -4.0350  12.3251  3.7720 -0.9971 -1.5105 -1.9379   \n",
              "7825  5.0631  2.9784  3.5212 -5.5735   9.6838  5.0466  1.3956 -2.1140 -1.4699   \n",
              "7826  4.5021  2.4883  4.2914 -1.3921   9.6675  5.3768  1.0779 -0.9406  3.7699   \n",
              "\n",
              "      ZNF708  ...  KIF16B  CYP4F2   TENM1   BATF3  PPP6R1   OR8D4  \\\n",
              "0     2.0946  ...  1.0151 -3.6259  0.8805  4.2578  4.9308 -9.9658   \n",
              "1     1.8604  ...  1.7702 -2.6349  0.8408  1.1512  4.2103 -9.9658   \n",
              "2     1.3109  ...  0.4967 -9.9658 -0.2498  3.5111  4.7587 -9.9658   \n",
              "3     1.5366  ...  1.9111 -2.6349  0.1124  3.3979  4.4784 -9.9658   \n",
              "4     1.9527  ...  0.2881 -9.9658 -0.1031  4.0926  4.6306 -9.9658   \n",
              "...      ...  ...     ...     ...     ...     ...     ...     ...   \n",
              "7822 -0.2159  ...  0.8647  6.3266 -0.6416 -0.2159  3.3307 -9.9658   \n",
              "7823 -1.8314  ...  2.0183  5.8352 -2.2447 -0.5332  3.4384 -9.9658   \n",
              "7824 -0.9686  ... -1.5522 -2.4659 -0.4921  2.9729  6.6918 -9.9658   \n",
              "7825  0.3231  ...  1.4704 -0.1031 -5.5735  2.4386  4.8530 -9.9658   \n",
              "7826  0.8327  ...  2.0776 -4.0350 -9.9658  1.5950  4.8900 -9.9658   \n",
              "\n",
              "      cancer type abbreviation  age_at_initial_pathologic_diagnosis  gender  \\\n",
              "0                            8                                   46       1   \n",
              "1                            8                                   59       0   \n",
              "2                            8                                   39       1   \n",
              "3                            8                                   55       1   \n",
              "4                            8                                   52       1   \n",
              "...                        ...                                  ...     ...   \n",
              "7822                        15                                   50       1   \n",
              "7823                        15                                   41       1   \n",
              "7824                        29                                   59       0   \n",
              "7825                         4                                   38       1   \n",
              "7826                         3                                   50       0   \n",
              "\n",
              "      race  \n",
              "0        5  \n",
              "1        3  \n",
              "2        5  \n",
              "3        5  \n",
              "4        5  \n",
              "...    ...  \n",
              "7822     5  \n",
              "7823     5  \n",
              "7824     5  \n",
              "7825     5  \n",
              "7826     5  \n",
              "\n",
              "[7827 rows x 19242 columns]"
            ],
            "text/html": [
              "\n",
              "  <div id=\"df-fe28ff10-7a6c-4965-99f2-934f0d081879\">\n",
              "    <div class=\"colab-df-container\">\n",
              "      <div>\n",
              "<style scoped>\n",
              "    .dataframe tbody tr th:only-of-type {\n",
              "        vertical-align: middle;\n",
              "    }\n",
              "\n",
              "    .dataframe tbody tr th {\n",
              "        vertical-align: top;\n",
              "    }\n",
              "\n",
              "    .dataframe thead th {\n",
              "        text-align: right;\n",
              "    }\n",
              "</style>\n",
              "<table border=\"1\" class=\"dataframe\">\n",
              "  <thead>\n",
              "    <tr style=\"text-align: right;\">\n",
              "      <th></th>\n",
              "      <th>RAB4B</th>\n",
              "      <th>TIGAR</th>\n",
              "      <th>RNF44</th>\n",
              "      <th>DNAH3</th>\n",
              "      <th>RPL23A</th>\n",
              "      <th>ARL8B</th>\n",
              "      <th>CALB2</th>\n",
              "      <th>DACH1</th>\n",
              "      <th>FMO2</th>\n",
              "      <th>ZNF708</th>\n",
              "      <th>...</th>\n",
              "      <th>KIF16B</th>\n",
              "      <th>CYP4F2</th>\n",
              "      <th>TENM1</th>\n",
              "      <th>BATF3</th>\n",
              "      <th>PPP6R1</th>\n",
              "      <th>OR8D4</th>\n",
              "      <th>cancer type abbreviation</th>\n",
              "      <th>age_at_initial_pathologic_diagnosis</th>\n",
              "      <th>gender</th>\n",
              "      <th>race</th>\n",
              "    </tr>\n",
              "  </thead>\n",
              "  <tbody>\n",
              "    <tr>\n",
              "      <th>0</th>\n",
              "      <td>5.4680</td>\n",
              "      <td>3.5694</td>\n",
              "      <td>4.2126</td>\n",
              "      <td>-2.4659</td>\n",
              "      <td>9.0496</td>\n",
              "      <td>5.3636</td>\n",
              "      <td>0.6608</td>\n",
              "      <td>-0.6873</td>\n",
              "      <td>-2.6349</td>\n",
              "      <td>2.0946</td>\n",
              "      <td>...</td>\n",
              "      <td>1.0151</td>\n",
              "      <td>-3.6259</td>\n",
              "      <td>0.8805</td>\n",
              "      <td>4.2578</td>\n",
              "      <td>4.9308</td>\n",
              "      <td>-9.9658</td>\n",
              "      <td>8</td>\n",
              "      <td>46</td>\n",
              "      <td>1</td>\n",
              "      <td>5</td>\n",
              "    </tr>\n",
              "    <tr>\n",
              "      <th>1</th>\n",
              "      <td>5.4787</td>\n",
              "      <td>2.7422</td>\n",
              "      <td>3.7571</td>\n",
              "      <td>-1.8836</td>\n",
              "      <td>9.6983</td>\n",
              "      <td>5.7642</td>\n",
              "      <td>0.1903</td>\n",
              "      <td>-0.3022</td>\n",
              "      <td>-1.3921</td>\n",
              "      <td>1.8604</td>\n",
              "      <td>...</td>\n",
              "      <td>1.7702</td>\n",
              "      <td>-2.6349</td>\n",
              "      <td>0.8408</td>\n",
              "      <td>1.1512</td>\n",
              "      <td>4.2103</td>\n",
              "      <td>-9.9658</td>\n",
              "      <td>8</td>\n",
              "      <td>59</td>\n",
              "      <td>0</td>\n",
              "      <td>3</td>\n",
              "    </tr>\n",
              "    <tr>\n",
              "      <th>2</th>\n",
              "      <td>5.6994</td>\n",
              "      <td>3.0481</td>\n",
              "      <td>4.1094</td>\n",
              "      <td>-9.9658</td>\n",
              "      <td>9.9318</td>\n",
              "      <td>5.3155</td>\n",
              "      <td>1.8323</td>\n",
              "      <td>0.4967</td>\n",
              "      <td>-2.2447</td>\n",
              "      <td>1.3109</td>\n",
              "      <td>...</td>\n",
              "      <td>0.4967</td>\n",
              "      <td>-9.9658</td>\n",
              "      <td>-0.2498</td>\n",
              "      <td>3.5111</td>\n",
              "      <td>4.7587</td>\n",
              "      <td>-9.9658</td>\n",
              "      <td>8</td>\n",
              "      <td>39</td>\n",
              "      <td>1</td>\n",
              "      <td>5</td>\n",
              "    </tr>\n",
              "    <tr>\n",
              "      <th>3</th>\n",
              "      <td>6.2196</td>\n",
              "      <td>2.4985</td>\n",
              "      <td>3.8551</td>\n",
              "      <td>-3.4580</td>\n",
              "      <td>9.6547</td>\n",
              "      <td>5.2114</td>\n",
              "      <td>-2.3884</td>\n",
              "      <td>-1.8836</td>\n",
              "      <td>-1.5522</td>\n",
              "      <td>1.5366</td>\n",
              "      <td>...</td>\n",
              "      <td>1.9111</td>\n",
              "      <td>-2.6349</td>\n",
              "      <td>0.1124</td>\n",
              "      <td>3.3979</td>\n",
              "      <td>4.4784</td>\n",
              "      <td>-9.9658</td>\n",
              "      <td>8</td>\n",
              "      <td>55</td>\n",
              "      <td>1</td>\n",
              "      <td>5</td>\n",
              "    </tr>\n",
              "    <tr>\n",
              "      <th>4</th>\n",
              "      <td>6.0540</td>\n",
              "      <td>2.3760</td>\n",
              "      <td>3.6972</td>\n",
              "      <td>-6.5064</td>\n",
              "      <td>10.0772</td>\n",
              "      <td>4.8783</td>\n",
              "      <td>0.3231</td>\n",
              "      <td>0.7321</td>\n",
              "      <td>-2.5479</td>\n",
              "      <td>1.9527</td>\n",
              "      <td>...</td>\n",
              "      <td>0.2881</td>\n",
              "      <td>-9.9658</td>\n",
              "      <td>-0.1031</td>\n",
              "      <td>4.0926</td>\n",
              "      <td>4.6306</td>\n",
              "      <td>-9.9658</td>\n",
              "      <td>8</td>\n",
              "      <td>52</td>\n",
              "      <td>1</td>\n",
              "      <td>5</td>\n",
              "    </tr>\n",
              "    <tr>\n",
              "      <th>...</th>\n",
              "      <td>...</td>\n",
              "      <td>...</td>\n",
              "      <td>...</td>\n",
              "      <td>...</td>\n",
              "      <td>...</td>\n",
              "      <td>...</td>\n",
              "      <td>...</td>\n",
              "      <td>...</td>\n",
              "      <td>...</td>\n",
              "      <td>...</td>\n",
              "      <td>...</td>\n",
              "      <td>...</td>\n",
              "      <td>...</td>\n",
              "      <td>...</td>\n",
              "      <td>...</td>\n",
              "      <td>...</td>\n",
              "      <td>...</td>\n",
              "      <td>...</td>\n",
              "      <td>...</td>\n",
              "      <td>...</td>\n",
              "      <td>...</td>\n",
              "    </tr>\n",
              "    <tr>\n",
              "      <th>7822</th>\n",
              "      <td>3.3535</td>\n",
              "      <td>-0.2159</td>\n",
              "      <td>3.1095</td>\n",
              "      <td>-9.9658</td>\n",
              "      <td>9.4021</td>\n",
              "      <td>4.2743</td>\n",
              "      <td>-5.5735</td>\n",
              "      <td>-4.2934</td>\n",
              "      <td>-1.7322</td>\n",
              "      <td>-0.2159</td>\n",
              "      <td>...</td>\n",
              "      <td>0.8647</td>\n",
              "      <td>6.3266</td>\n",
              "      <td>-0.6416</td>\n",
              "      <td>-0.2159</td>\n",
              "      <td>3.3307</td>\n",
              "      <td>-9.9658</td>\n",
              "      <td>15</td>\n",
              "      <td>50</td>\n",
              "      <td>1</td>\n",
              "      <td>5</td>\n",
              "    </tr>\n",
              "    <tr>\n",
              "      <th>7823</th>\n",
              "      <td>3.5262</td>\n",
              "      <td>0.6699</td>\n",
              "      <td>2.4359</td>\n",
              "      <td>-9.9658</td>\n",
              "      <td>8.7991</td>\n",
              "      <td>3.8330</td>\n",
              "      <td>-3.3076</td>\n",
              "      <td>-2.9324</td>\n",
              "      <td>0.1257</td>\n",
              "      <td>-1.8314</td>\n",
              "      <td>...</td>\n",
              "      <td>2.0183</td>\n",
              "      <td>5.8352</td>\n",
              "      <td>-2.2447</td>\n",
              "      <td>-0.5332</td>\n",
              "      <td>3.4384</td>\n",
              "      <td>-9.9658</td>\n",
              "      <td>15</td>\n",
              "      <td>41</td>\n",
              "      <td>1</td>\n",
              "      <td>5</td>\n",
              "    </tr>\n",
              "    <tr>\n",
              "      <th>7824</th>\n",
              "      <td>6.0219</td>\n",
              "      <td>-0.1665</td>\n",
              "      <td>2.6962</td>\n",
              "      <td>-4.0350</td>\n",
              "      <td>12.3251</td>\n",
              "      <td>3.7720</td>\n",
              "      <td>-0.9971</td>\n",
              "      <td>-1.5105</td>\n",
              "      <td>-1.9379</td>\n",
              "      <td>-0.9686</td>\n",
              "      <td>...</td>\n",
              "      <td>-1.5522</td>\n",
              "      <td>-2.4659</td>\n",
              "      <td>-0.4921</td>\n",
              "      <td>2.9729</td>\n",
              "      <td>6.6918</td>\n",
              "      <td>-9.9658</td>\n",
              "      <td>29</td>\n",
              "      <td>59</td>\n",
              "      <td>0</td>\n",
              "      <td>5</td>\n",
              "    </tr>\n",
              "    <tr>\n",
              "      <th>7825</th>\n",
              "      <td>5.0631</td>\n",
              "      <td>2.9784</td>\n",
              "      <td>3.5212</td>\n",
              "      <td>-5.5735</td>\n",
              "      <td>9.6838</td>\n",
              "      <td>5.0466</td>\n",
              "      <td>1.3956</td>\n",
              "      <td>-2.1140</td>\n",
              "      <td>-1.4699</td>\n",
              "      <td>0.3231</td>\n",
              "      <td>...</td>\n",
              "      <td>1.4704</td>\n",
              "      <td>-0.1031</td>\n",
              "      <td>-5.5735</td>\n",
              "      <td>2.4386</td>\n",
              "      <td>4.8530</td>\n",
              "      <td>-9.9658</td>\n",
              "      <td>4</td>\n",
              "      <td>38</td>\n",
              "      <td>1</td>\n",
              "      <td>5</td>\n",
              "    </tr>\n",
              "    <tr>\n",
              "      <th>7826</th>\n",
              "      <td>4.5021</td>\n",
              "      <td>2.4883</td>\n",
              "      <td>4.2914</td>\n",
              "      <td>-1.3921</td>\n",
              "      <td>9.6675</td>\n",
              "      <td>5.3768</td>\n",
              "      <td>1.0779</td>\n",
              "      <td>-0.9406</td>\n",
              "      <td>3.7699</td>\n",
              "      <td>0.8327</td>\n",
              "      <td>...</td>\n",
              "      <td>2.0776</td>\n",
              "      <td>-4.0350</td>\n",
              "      <td>-9.9658</td>\n",
              "      <td>1.5950</td>\n",
              "      <td>4.8900</td>\n",
              "      <td>-9.9658</td>\n",
              "      <td>3</td>\n",
              "      <td>50</td>\n",
              "      <td>0</td>\n",
              "      <td>5</td>\n",
              "    </tr>\n",
              "  </tbody>\n",
              "</table>\n",
              "<p>7827 rows × 19242 columns</p>\n",
              "</div>\n",
              "      <button class=\"colab-df-convert\" onclick=\"convertToInteractive('df-fe28ff10-7a6c-4965-99f2-934f0d081879')\"\n",
              "              title=\"Convert this dataframe to an interactive table.\"\n",
              "              style=\"display:none;\">\n",
              "        \n",
              "  <svg xmlns=\"http://www.w3.org/2000/svg\" height=\"24px\"viewBox=\"0 0 24 24\"\n",
              "       width=\"24px\">\n",
              "    <path d=\"M0 0h24v24H0V0z\" fill=\"none\"/>\n",
              "    <path d=\"M18.56 5.44l.94 2.06.94-2.06 2.06-.94-2.06-.94-.94-2.06-.94 2.06-2.06.94zm-11 1L8.5 8.5l.94-2.06 2.06-.94-2.06-.94L8.5 2.5l-.94 2.06-2.06.94zm10 10l.94 2.06.94-2.06 2.06-.94-2.06-.94-.94-2.06-.94 2.06-2.06.94z\"/><path d=\"M17.41 7.96l-1.37-1.37c-.4-.4-.92-.59-1.43-.59-.52 0-1.04.2-1.43.59L10.3 9.45l-7.72 7.72c-.78.78-.78 2.05 0 2.83L4 21.41c.39.39.9.59 1.41.59.51 0 1.02-.2 1.41-.59l7.78-7.78 2.81-2.81c.8-.78.8-2.07 0-2.86zM5.41 20L4 18.59l7.72-7.72 1.47 1.35L5.41 20z\"/>\n",
              "  </svg>\n",
              "      </button>\n",
              "      \n",
              "  <style>\n",
              "    .colab-df-container {\n",
              "      display:flex;\n",
              "      flex-wrap:wrap;\n",
              "      gap: 12px;\n",
              "    }\n",
              "\n",
              "    .colab-df-convert {\n",
              "      background-color: #E8F0FE;\n",
              "      border: none;\n",
              "      border-radius: 50%;\n",
              "      cursor: pointer;\n",
              "      display: none;\n",
              "      fill: #1967D2;\n",
              "      height: 32px;\n",
              "      padding: 0 0 0 0;\n",
              "      width: 32px;\n",
              "    }\n",
              "\n",
              "    .colab-df-convert:hover {\n",
              "      background-color: #E2EBFA;\n",
              "      box-shadow: 0px 1px 2px rgba(60, 64, 67, 0.3), 0px 1px 3px 1px rgba(60, 64, 67, 0.15);\n",
              "      fill: #174EA6;\n",
              "    }\n",
              "\n",
              "    [theme=dark] .colab-df-convert {\n",
              "      background-color: #3B4455;\n",
              "      fill: #D2E3FC;\n",
              "    }\n",
              "\n",
              "    [theme=dark] .colab-df-convert:hover {\n",
              "      background-color: #434B5C;\n",
              "      box-shadow: 0px 1px 3px 1px rgba(0, 0, 0, 0.15);\n",
              "      filter: drop-shadow(0px 1px 2px rgba(0, 0, 0, 0.3));\n",
              "      fill: #FFFFFF;\n",
              "    }\n",
              "  </style>\n",
              "\n",
              "      <script>\n",
              "        const buttonEl =\n",
              "          document.querySelector('#df-fe28ff10-7a6c-4965-99f2-934f0d081879 button.colab-df-convert');\n",
              "        buttonEl.style.display =\n",
              "          google.colab.kernel.accessAllowed ? 'block' : 'none';\n",
              "\n",
              "        async function convertToInteractive(key) {\n",
              "          const element = document.querySelector('#df-fe28ff10-7a6c-4965-99f2-934f0d081879');\n",
              "          const dataTable =\n",
              "            await google.colab.kernel.invokeFunction('convertToInteractive',\n",
              "                                                     [key], {});\n",
              "          if (!dataTable) return;\n",
              "\n",
              "          const docLinkHtml = 'Like what you see? Visit the ' +\n",
              "            '<a target=\"_blank\" href=https://colab.research.google.com/notebooks/data_table.ipynb>data table notebook</a>'\n",
              "            + ' to learn more about interactive tables.';\n",
              "          element.innerHTML = '';\n",
              "          dataTable['output_type'] = 'display_data';\n",
              "          await google.colab.output.renderOutput(dataTable, element);\n",
              "          const docLink = document.createElement('div');\n",
              "          docLink.innerHTML = docLinkHtml;\n",
              "          element.appendChild(docLink);\n",
              "        }\n",
              "      </script>\n",
              "    </div>\n",
              "  </div>\n",
              "  "
            ]
          },
          "metadata": {},
          "execution_count": 9
        }
      ]
    },
    {
      "cell_type": "code",
      "source": [
        "train_split_1_dummies = train_split_1.copy()\n",
        "train_split_1_dummies = pd.get_dummies(train_split_1_dummies)\n",
        "\n",
        "X_train_1 = train_split_1_dummies.drop(columns_to_drop, axis=1).copy()\n",
        "y_train_1 = train_split_1_dummies['cancer type abbreviation'].copy()"
      ],
      "metadata": {
        "id": "YhqNEYcyVdK5",
        "execution": {
          "iopub.status.busy": "2023-04-02T13:56:40.221720Z",
          "iopub.execute_input": "2023-04-02T13:56:40.222156Z",
          "iopub.status.idle": "2023-04-02T13:56:42.290067Z",
          "shell.execute_reply.started": "2023-04-02T13:56:40.222112Z",
          "shell.execute_reply": "2023-04-02T13:56:42.288996Z"
        },
        "trusted": true
      },
      "execution_count": null,
      "outputs": []
    },
    {
      "cell_type": "code",
      "source": [
        "X_train1=X_train_1.copy()\n",
        "y_train1=y_train_1.copy()"
      ],
      "metadata": {
        "id": "Z3dyqAucaO8G",
        "execution": {
          "iopub.status.busy": "2023-04-02T13:56:42.294928Z",
          "iopub.execute_input": "2023-04-02T13:56:42.296610Z",
          "iopub.status.idle": "2023-04-02T13:56:42.780800Z",
          "shell.execute_reply.started": "2023-04-02T13:56:42.296566Z",
          "shell.execute_reply": "2023-04-02T13:56:42.779714Z"
        },
        "trusted": true
      },
      "execution_count": null,
      "outputs": []
    },
    {
      "cell_type": "code",
      "source": [
        "model_1=tabNetClassifier(X_train1,y_train1,'tabnet_model_1.pkl')\n",
        "\n",
        "accuracy_1, precision_1, recall_1, f1_1, cm1 = classificationReport(model_1, X_test_1,y_test_1)"
      ],
      "metadata": {
        "colab": {
          "base_uri": "https://localhost:8080/"
        },
        "id": "sESFPiWFcWN7",
        "outputId": "cfa3367b-5667-4e78-c595-b09765f3ea25"
      },
      "execution_count": null,
      "outputs": [
        {
          "output_type": "stream",
          "name": "stderr",
          "text": [
            "/usr/local/lib/python3.9/dist-packages/pytorch_tabnet/abstract_model.py:75: UserWarning: Device used : cuda\n",
            "  warnings.warn(f\"Device used : {self.device}\")\n"
          ]
        },
        {
          "output_type": "stream",
          "name": "stdout",
          "text": [
            "epoch 0  | loss: 3.84566 | val_0_accuracy: 0.03001 |  0:00:09s\n",
            "epoch 1  | loss: 3.48475 | val_0_accuracy: 0.01533 |  0:00:14s\n",
            "epoch 2  | loss: 3.23312 | val_0_accuracy: 0.01533 |  0:00:20s\n",
            "epoch 3  | loss: 2.82929 | val_0_accuracy: 0.02682 |  0:00:26s\n",
            "epoch 4  | loss: 2.29322 | val_0_accuracy: 0.04853 |  0:00:32s\n",
            "epoch 5  | loss: 1.66768 | val_0_accuracy: 0.04023 |  0:00:38s\n",
            "epoch 6  | loss: 1.23828 | val_0_accuracy: 0.09259 |  0:00:44s\n",
            "epoch 7  | loss: 0.99443 | val_0_accuracy: 0.10536 |  0:00:50s\n",
            "epoch 8  | loss: 0.76903 | val_0_accuracy: 0.16603 |  0:00:56s\n",
            "epoch 9  | loss: 0.60833 | val_0_accuracy: 0.27458 |  0:01:02s\n",
            "epoch 10 | loss: 0.49327 | val_0_accuracy: 0.41507 |  0:01:08s\n",
            "epoch 11 | loss: 0.48577 | val_0_accuracy: 0.46232 |  0:01:14s\n",
            "epoch 12 | loss: 0.43242 | val_0_accuracy: 0.48595 |  0:01:20s\n",
            "epoch 13 | loss: 0.34777 | val_0_accuracy: 0.62324 |  0:01:26s\n",
            "epoch 14 | loss: 0.289   | val_0_accuracy: 0.66858 |  0:01:32s\n",
            "epoch 15 | loss: 0.30118 | val_0_accuracy: 0.75351 |  0:01:38s\n",
            "epoch 16 | loss: 0.24697 | val_0_accuracy: 0.84355 |  0:01:45s\n",
            "epoch 17 | loss: 0.24816 | val_0_accuracy: 0.80971 |  0:01:50s\n",
            "epoch 18 | loss: 0.20701 | val_0_accuracy: 0.86207 |  0:01:57s\n",
            "epoch 19 | loss: 0.18406 | val_0_accuracy: 0.80396 |  0:02:02s\n",
            "epoch 20 | loss: 0.16955 | val_0_accuracy: 0.88953 |  0:02:09s\n",
            "epoch 21 | loss: 0.15855 | val_0_accuracy: 0.86462 |  0:02:14s\n",
            "epoch 22 | loss: 0.13393 | val_0_accuracy: 0.92146 |  0:02:20s\n",
            "epoch 23 | loss: 0.12375 | val_0_accuracy: 0.91635 |  0:02:26s\n",
            "epoch 24 | loss: 0.12277 | val_0_accuracy: 0.90932 |  0:02:32s\n",
            "epoch 25 | loss: 0.11454 | val_0_accuracy: 0.93295 |  0:02:39s\n",
            "epoch 26 | loss: 0.10386 | val_0_accuracy: 0.93934 |  0:02:44s\n",
            "epoch 27 | loss: 0.09404 | val_0_accuracy: 0.92082 |  0:02:51s\n",
            "epoch 28 | loss: 0.08637 | val_0_accuracy: 0.94061 |  0:02:56s\n",
            "epoch 29 | loss: 0.08892 | val_0_accuracy: 0.92273 |  0:03:03s\n",
            "epoch 30 | loss: 0.08692 | val_0_accuracy: 0.91124 |  0:03:08s\n",
            "epoch 31 | loss: 0.08018 | val_0_accuracy: 0.93167 |  0:03:14s\n",
            "epoch 32 | loss: 0.08897 | val_0_accuracy: 0.93487 |  0:03:20s\n",
            "epoch 33 | loss: 0.07323 | val_0_accuracy: 0.94636 |  0:03:26s\n",
            "epoch 34 | loss: 0.06605 | val_0_accuracy: 0.95019 |  0:03:32s\n",
            "epoch 35 | loss: 0.06905 | val_0_accuracy: 0.94125 |  0:03:38s\n",
            "epoch 36 | loss: 0.07267 | val_0_accuracy: 0.9355  |  0:03:44s\n",
            "epoch 37 | loss: 0.07306 | val_0_accuracy: 0.94125 |  0:03:50s\n",
            "epoch 38 | loss: 0.0742  | val_0_accuracy: 0.94508 |  0:03:56s\n",
            "epoch 39 | loss: 0.06323 | val_0_accuracy: 0.93614 |  0:04:02s\n",
            "epoch 40 | loss: 0.05927 | val_0_accuracy: 0.92848 |  0:04:08s\n",
            "epoch 41 | loss: 0.06858 | val_0_accuracy: 0.93934 |  0:04:13s\n",
            "epoch 42 | loss: 0.05545 | val_0_accuracy: 0.93934 |  0:04:19s\n",
            "epoch 43 | loss: 0.04593 | val_0_accuracy: 0.93742 |  0:04:25s\n",
            "epoch 44 | loss: 0.03288 | val_0_accuracy: 0.94317 |  0:04:31s\n",
            "epoch 45 | loss: 0.0325  | val_0_accuracy: 0.93295 |  0:04:37s\n",
            "epoch 46 | loss: 0.0334  | val_0_accuracy: 0.92848 |  0:04:43s\n",
            "epoch 47 | loss: 0.04432 | val_0_accuracy: 0.92912 |  0:04:49s\n",
            "epoch 48 | loss: 0.04329 | val_0_accuracy: 0.947   |  0:04:55s\n",
            "epoch 49 | loss: 0.0385  | val_0_accuracy: 0.93678 |  0:05:01s\n",
            "epoch 50 | loss: 0.03855 | val_0_accuracy: 0.94317 |  0:05:07s\n",
            "epoch 51 | loss: 0.02783 | val_0_accuracy: 0.92848 |  0:05:12s\n",
            "epoch 52 | loss: 0.05888 | val_0_accuracy: 0.9023  |  0:05:20s\n",
            "epoch 53 | loss: 0.0391  | val_0_accuracy: 0.93934 |  0:05:28s\n",
            "epoch 54 | loss: 0.02476 | val_0_accuracy: 0.94253 |  0:05:34s\n",
            "epoch 55 | loss: 0.02945 | val_0_accuracy: 0.93934 |  0:05:39s\n",
            "epoch 56 | loss: 0.03428 | val_0_accuracy: 0.94572 |  0:05:45s\n",
            "epoch 57 | loss: 0.02453 | val_0_accuracy: 0.94189 |  0:05:51s\n",
            "epoch 58 | loss: 0.02704 | val_0_accuracy: 0.94828 |  0:05:57s\n",
            "epoch 59 | loss: 0.02844 | val_0_accuracy: 0.94444 |  0:06:03s\n",
            "epoch 60 | loss: 0.03746 | val_0_accuracy: 0.94764 |  0:06:09s\n",
            "epoch 61 | loss: 0.02979 | val_0_accuracy: 0.94125 |  0:06:15s\n",
            "epoch 62 | loss: 0.02445 | val_0_accuracy: 0.94508 |  0:06:21s\n",
            "epoch 63 | loss: 0.02467 | val_0_accuracy: 0.94764 |  0:06:27s\n",
            "epoch 64 | loss: 0.02384 | val_0_accuracy: 0.94381 |  0:06:33s\n",
            "epoch 65 | loss: 0.02389 | val_0_accuracy: 0.947   |  0:06:39s\n",
            "epoch 66 | loss: 0.02184 | val_0_accuracy: 0.95019 |  0:06:44s\n",
            "epoch 67 | loss: 0.02132 | val_0_accuracy: 0.94891 |  0:06:51s\n",
            "epoch 68 | loss: 0.02571 | val_0_accuracy: 0.95019 |  0:06:57s\n",
            "epoch 69 | loss: 0.01234 | val_0_accuracy: 0.94764 |  0:07:03s\n",
            "epoch 70 | loss: 0.01578 | val_0_accuracy: 0.94125 |  0:07:09s\n",
            "epoch 71 | loss: 0.01037 | val_0_accuracy: 0.94061 |  0:07:15s\n",
            "epoch 72 | loss: 0.01365 | val_0_accuracy: 0.94572 |  0:07:21s\n",
            "epoch 73 | loss: 0.01216 | val_0_accuracy: 0.94125 |  0:07:27s\n",
            "epoch 74 | loss: 0.00793 | val_0_accuracy: 0.94444 |  0:07:33s\n",
            "epoch 75 | loss: 0.0095  | val_0_accuracy: 0.947   |  0:07:38s\n",
            "epoch 76 | loss: 0.01088 | val_0_accuracy: 0.94891 |  0:07:44s\n",
            "epoch 77 | loss: 0.00818 | val_0_accuracy: 0.94444 |  0:07:50s\n",
            "epoch 78 | loss: 0.01378 | val_0_accuracy: 0.94572 |  0:07:56s\n",
            "epoch 79 | loss: 0.00956 | val_0_accuracy: 0.94828 |  0:08:02s\n",
            "epoch 80 | loss: 0.00752 | val_0_accuracy: 0.94764 |  0:08:08s\n",
            "epoch 81 | loss: 0.01249 | val_0_accuracy: 0.95083 |  0:08:14s\n",
            "epoch 82 | loss: 0.01685 | val_0_accuracy: 0.94572 |  0:08:20s\n",
            "epoch 83 | loss: 0.00691 | val_0_accuracy: 0.93806 |  0:08:26s\n",
            "epoch 84 | loss: 0.02702 | val_0_accuracy: 0.94508 |  0:08:32s\n",
            "epoch 85 | loss: 0.01142 | val_0_accuracy: 0.93997 |  0:08:38s\n",
            "epoch 86 | loss: 0.01273 | val_0_accuracy: 0.93934 |  0:08:44s\n",
            "epoch 87 | loss: 0.02908 | val_0_accuracy: 0.94317 |  0:08:50s\n",
            "epoch 88 | loss: 0.00971 | val_0_accuracy: 0.94317 |  0:08:56s\n",
            "epoch 89 | loss: 0.00633 | val_0_accuracy: 0.94317 |  0:09:02s\n",
            "epoch 90 | loss: 0.01438 | val_0_accuracy: 0.94955 |  0:09:08s\n",
            "epoch 91 | loss: 0.00932 | val_0_accuracy: 0.94572 |  0:09:13s\n",
            "epoch 92 | loss: 0.00607 | val_0_accuracy: 0.94828 |  0:09:19s\n",
            "epoch 93 | loss: 0.00497 | val_0_accuracy: 0.94891 |  0:09:25s\n",
            "epoch 94 | loss: 0.00415 | val_0_accuracy: 0.94828 |  0:09:31s\n",
            "epoch 95 | loss: 0.00384 | val_0_accuracy: 0.94764 |  0:09:37s\n",
            "epoch 96 | loss: 0.00731 | val_0_accuracy: 0.94317 |  0:09:43s\n",
            "epoch 97 | loss: 0.00584 | val_0_accuracy: 0.95083 |  0:09:49s\n",
            "epoch 98 | loss: 0.00683 | val_0_accuracy: 0.95275 |  0:09:55s\n",
            "epoch 99 | loss: 0.00315 | val_0_accuracy: 0.95211 |  0:10:00s\n",
            "epoch 100| loss: 0.00551 | val_0_accuracy: 0.95147 |  0:10:06s\n",
            "epoch 101| loss: 0.00554 | val_0_accuracy: 0.95338 |  0:10:12s\n",
            "epoch 102| loss: 0.0038  | val_0_accuracy: 0.95338 |  0:10:18s\n",
            "epoch 103| loss: 0.00352 | val_0_accuracy: 0.95402 |  0:10:24s\n",
            "epoch 104| loss: 0.00395 | val_0_accuracy: 0.95147 |  0:10:30s\n",
            "epoch 105| loss: 0.0058  | val_0_accuracy: 0.95211 |  0:10:36s\n",
            "epoch 106| loss: 0.00499 | val_0_accuracy: 0.94955 |  0:10:41s\n",
            "epoch 107| loss: 0.00511 | val_0_accuracy: 0.94444 |  0:10:47s\n",
            "epoch 108| loss: 0.00672 | val_0_accuracy: 0.94891 |  0:10:53s\n",
            "epoch 109| loss: 0.00441 | val_0_accuracy: 0.94955 |  0:10:59s\n",
            "epoch 110| loss: 0.00623 | val_0_accuracy: 0.94764 |  0:11:05s\n",
            "epoch 111| loss: 0.01173 | val_0_accuracy: 0.95083 |  0:11:11s\n",
            "epoch 112| loss: 0.00957 | val_0_accuracy: 0.95019 |  0:11:17s\n",
            "epoch 113| loss: 0.00511 | val_0_accuracy: 0.94828 |  0:11:23s\n",
            "epoch 114| loss: 0.0061  | val_0_accuracy: 0.95211 |  0:11:29s\n",
            "epoch 115| loss: 0.00489 | val_0_accuracy: 0.95019 |  0:11:35s\n",
            "epoch 116| loss: 0.00345 | val_0_accuracy: 0.94891 |  0:11:41s\n",
            "epoch 117| loss: 0.00875 | val_0_accuracy: 0.95019 |  0:11:46s\n",
            "epoch 118| loss: 0.00693 | val_0_accuracy: 0.94891 |  0:11:52s\n",
            "epoch 119| loss: 0.00777 | val_0_accuracy: 0.94764 |  0:11:58s\n",
            "epoch 120| loss: 0.00464 | val_0_accuracy: 0.947   |  0:12:04s\n",
            "epoch 121| loss: 0.00389 | val_0_accuracy: 0.94636 |  0:12:10s\n",
            "epoch 122| loss: 0.00507 | val_0_accuracy: 0.947   |  0:12:16s\n",
            "epoch 123| loss: 0.0045  | val_0_accuracy: 0.94508 |  0:12:22s\n",
            "epoch 124| loss: 0.00503 | val_0_accuracy: 0.947   |  0:12:27s\n",
            "epoch 125| loss: 0.00234 | val_0_accuracy: 0.95147 |  0:12:33s\n",
            "epoch 126| loss: 0.00551 | val_0_accuracy: 0.94636 |  0:12:39s\n",
            "epoch 127| loss: 0.003   | val_0_accuracy: 0.94955 |  0:12:45s\n",
            "epoch 128| loss: 0.00383 | val_0_accuracy: 0.95019 |  0:12:51s\n",
            "epoch 129| loss: 0.00409 | val_0_accuracy: 0.95147 |  0:12:56s\n",
            "epoch 130| loss: 0.00489 | val_0_accuracy: 0.947   |  0:13:03s\n",
            "epoch 131| loss: 0.0029  | val_0_accuracy: 0.94955 |  0:13:08s\n",
            "epoch 132| loss: 0.00525 | val_0_accuracy: 0.95019 |  0:13:14s\n",
            "epoch 133| loss: 0.00505 | val_0_accuracy: 0.95019 |  0:13:20s\n",
            "epoch 134| loss: 0.00255 | val_0_accuracy: 0.95147 |  0:13:26s\n",
            "epoch 135| loss: 0.00516 | val_0_accuracy: 0.95147 |  0:13:32s\n",
            "epoch 136| loss: 0.01399 | val_0_accuracy: 0.94828 |  0:13:37s\n",
            "epoch 137| loss: 0.00322 | val_0_accuracy: 0.94891 |  0:13:43s\n",
            "epoch 138| loss: 0.00386 | val_0_accuracy: 0.95083 |  0:13:49s\n",
            "epoch 139| loss: 0.00477 | val_0_accuracy: 0.94764 |  0:13:55s\n",
            "epoch 140| loss: 0.00584 | val_0_accuracy: 0.95019 |  0:14:01s\n",
            "epoch 141| loss: 0.002   | val_0_accuracy: 0.94955 |  0:14:07s\n",
            "epoch 142| loss: 0.00202 | val_0_accuracy: 0.95019 |  0:14:12s\n",
            "epoch 143| loss: 0.00176 | val_0_accuracy: 0.94955 |  0:14:18s\n",
            "epoch 144| loss: 0.00241 | val_0_accuracy: 0.95211 |  0:14:24s\n",
            "epoch 145| loss: 0.00332 | val_0_accuracy: 0.95211 |  0:14:30s\n",
            "epoch 146| loss: 0.00185 | val_0_accuracy: 0.95338 |  0:14:36s\n",
            "epoch 147| loss: 0.00239 | val_0_accuracy: 0.95338 |  0:14:41s\n",
            "epoch 148| loss: 0.00218 | val_0_accuracy: 0.94955 |  0:14:47s\n",
            "epoch 149| loss: 0.0017  | val_0_accuracy: 0.95019 |  0:14:53s\n",
            "Stop training because you reached max_epochs = 150 with best_epoch = 103 and best_val_0_accuracy = 0.95402\n"
          ]
        },
        {
          "output_type": "stream",
          "name": "stderr",
          "text": [
            "/usr/local/lib/python3.9/dist-packages/pytorch_tabnet/callbacks.py:172: UserWarning: Best weights from best epoch are automatically used!\n",
            "  warnings.warn(wrn_msg)\n"
          ]
        }
      ]
    },
    {
      "cell_type": "markdown",
      "source": [
        "# 2"
      ],
      "metadata": {
        "id": "JzO9RDP5e2KU"
      }
    },
    {
      "cell_type": "code",
      "source": [
        "test_split_2= pd.read_csv(\"./test_split_2.csv\", sep=',')\n",
        "test_split_2"
      ],
      "metadata": {
        "id": "oVQalTh0e2Ky",
        "colab": {
          "base_uri": "https://localhost:8080/",
          "height": 505
        },
        "outputId": "33e8e1c5-10f0-4646-ea25-703041abd613",
        "execution": {
          "iopub.status.busy": "2023-03-07T17:08:42.430525Z",
          "iopub.execute_input": "2023-03-07T17:08:42.431835Z",
          "iopub.status.idle": "2023-03-07T17:09:06.861409Z",
          "shell.execute_reply.started": "2023-03-07T17:08:42.431793Z",
          "shell.execute_reply": "2023-03-07T17:09:06.860034Z"
        },
        "trusted": true
      },
      "execution_count": null,
      "outputs": [
        {
          "execution_count": 8,
          "output_type": "execute_result",
          "data": {
            "text/plain": "       RAB4B   TIGAR   RNF44   DNAH3   RPL23A   ARL8B   CALB2   DACH1    FMO2  \\\n0     5.4680  3.5694  4.2126 -2.4659   9.0496  5.3636  0.6608 -0.6873 -2.6349   \n1     5.4787  2.7422  3.7571 -1.8836   9.6983  5.7642  0.1903 -0.3022 -1.3921   \n2     5.6994  3.0481  4.1094 -9.9658   9.9318  5.3155  1.8323  0.4967 -2.2447   \n3     6.2196  2.4985  3.8551 -3.4580   9.6547  5.2114 -2.3884 -1.8836 -1.5522   \n4     6.0540  2.3760  3.6972 -6.5064  10.0772  4.8783  0.3231  0.7321 -2.5479   \n...      ...     ...     ...     ...      ...     ...     ...     ...     ...   \n1952  5.7469  1.4547  4.4542 -4.2934  10.9842  4.8997 -2.8262  0.7832 -4.0350   \n1953  6.1196  1.5514  3.9194 -3.8160  11.2873  4.3492  1.6420  0.0580 -0.9971   \n1954  6.2782 -0.2159  2.4883 -5.5735  12.1155  3.9534 -2.2447 -1.2481 -4.6082   \n1955  6.5600  0.9935  3.5060 -9.9658  11.8054  4.3456 -2.9324 -1.6394 -9.9658   \n1956  6.1453  1.9340  5.0387 -3.6259  10.8602  4.8012 -3.3076  0.7999 -3.1714   \n\n      ZNF708  ...  KIF16B  CYP4F2   TENM1   BATF3  PPP6R1   OR8D4  \\\n0     2.0946  ...  1.0151 -3.6259  0.8805  4.2578  4.9308 -9.9658   \n1     1.8604  ...  1.7702 -2.6349  0.8408  1.1512  4.2103 -9.9658   \n2     1.3109  ...  0.4967 -9.9658 -0.2498  3.5111  4.7587 -9.9658   \n3     1.5366  ...  1.9111 -2.6349  0.1124  3.3979  4.4784 -9.9658   \n4     1.9527  ...  0.2881 -9.9658 -0.1031  4.0926  4.6306 -9.9658   \n...      ...  ...     ...     ...     ...     ...     ...     ...   \n1952  1.4911  ...  0.8164 -3.6259  0.2881  1.5115  5.9789 -9.9658   \n1953  0.1776  ... -0.3752 -5.5735 -4.2934  3.6759  5.3615 -9.9658   \n1954 -0.8084  ... -0.9971 -5.0116 -0.5125  3.6301  6.4278 -9.9658   \n1955 -0.1345  ... -1.1488 -3.4580  0.2522  3.5742  6.2489 -9.9658   \n1956  1.2875  ...  0.4552 -2.8262  0.7058  1.3454  6.2717 -9.9658   \n\n      cancer type abbreviation  age_at_initial_pathologic_diagnosis  gender  \\\n0                            8                                   46       1   \n1                            8                                   59       0   \n2                            8                                   39       1   \n3                            8                                   55       1   \n4                            8                                   52       1   \n...                        ...                                  ...     ...   \n1952                        29                                   27       1   \n1953                        29                                   51       0   \n1954                        29                                   29       1   \n1955                        29                                   12       1   \n1956                        29                                   31       1   \n\n      race  \n0        5  \n1        3  \n2        5  \n3        5  \n4        5  \n...    ...  \n1952     5  \n1953     5  \n1954     5  \n1955     5  \n1956     3  \n\n[1957 rows x 19242 columns]",
            "text/html": "<div>\n<style scoped>\n    .dataframe tbody tr th:only-of-type {\n        vertical-align: middle;\n    }\n\n    .dataframe tbody tr th {\n        vertical-align: top;\n    }\n\n    .dataframe thead th {\n        text-align: right;\n    }\n</style>\n<table border=\"1\" class=\"dataframe\">\n  <thead>\n    <tr style=\"text-align: right;\">\n      <th></th>\n      <th>RAB4B</th>\n      <th>TIGAR</th>\n      <th>RNF44</th>\n      <th>DNAH3</th>\n      <th>RPL23A</th>\n      <th>ARL8B</th>\n      <th>CALB2</th>\n      <th>DACH1</th>\n      <th>FMO2</th>\n      <th>ZNF708</th>\n      <th>...</th>\n      <th>KIF16B</th>\n      <th>CYP4F2</th>\n      <th>TENM1</th>\n      <th>BATF3</th>\n      <th>PPP6R1</th>\n      <th>OR8D4</th>\n      <th>cancer type abbreviation</th>\n      <th>age_at_initial_pathologic_diagnosis</th>\n      <th>gender</th>\n      <th>race</th>\n    </tr>\n  </thead>\n  <tbody>\n    <tr>\n      <th>0</th>\n      <td>5.4680</td>\n      <td>3.5694</td>\n      <td>4.2126</td>\n      <td>-2.4659</td>\n      <td>9.0496</td>\n      <td>5.3636</td>\n      <td>0.6608</td>\n      <td>-0.6873</td>\n      <td>-2.6349</td>\n      <td>2.0946</td>\n      <td>...</td>\n      <td>1.0151</td>\n      <td>-3.6259</td>\n      <td>0.8805</td>\n      <td>4.2578</td>\n      <td>4.9308</td>\n      <td>-9.9658</td>\n      <td>8</td>\n      <td>46</td>\n      <td>1</td>\n      <td>5</td>\n    </tr>\n    <tr>\n      <th>1</th>\n      <td>5.4787</td>\n      <td>2.7422</td>\n      <td>3.7571</td>\n      <td>-1.8836</td>\n      <td>9.6983</td>\n      <td>5.7642</td>\n      <td>0.1903</td>\n      <td>-0.3022</td>\n      <td>-1.3921</td>\n      <td>1.8604</td>\n      <td>...</td>\n      <td>1.7702</td>\n      <td>-2.6349</td>\n      <td>0.8408</td>\n      <td>1.1512</td>\n      <td>4.2103</td>\n      <td>-9.9658</td>\n      <td>8</td>\n      <td>59</td>\n      <td>0</td>\n      <td>3</td>\n    </tr>\n    <tr>\n      <th>2</th>\n      <td>5.6994</td>\n      <td>3.0481</td>\n      <td>4.1094</td>\n      <td>-9.9658</td>\n      <td>9.9318</td>\n      <td>5.3155</td>\n      <td>1.8323</td>\n      <td>0.4967</td>\n      <td>-2.2447</td>\n      <td>1.3109</td>\n      <td>...</td>\n      <td>0.4967</td>\n      <td>-9.9658</td>\n      <td>-0.2498</td>\n      <td>3.5111</td>\n      <td>4.7587</td>\n      <td>-9.9658</td>\n      <td>8</td>\n      <td>39</td>\n      <td>1</td>\n      <td>5</td>\n    </tr>\n    <tr>\n      <th>3</th>\n      <td>6.2196</td>\n      <td>2.4985</td>\n      <td>3.8551</td>\n      <td>-3.4580</td>\n      <td>9.6547</td>\n      <td>5.2114</td>\n      <td>-2.3884</td>\n      <td>-1.8836</td>\n      <td>-1.5522</td>\n      <td>1.5366</td>\n      <td>...</td>\n      <td>1.9111</td>\n      <td>-2.6349</td>\n      <td>0.1124</td>\n      <td>3.3979</td>\n      <td>4.4784</td>\n      <td>-9.9658</td>\n      <td>8</td>\n      <td>55</td>\n      <td>1</td>\n      <td>5</td>\n    </tr>\n    <tr>\n      <th>4</th>\n      <td>6.0540</td>\n      <td>2.3760</td>\n      <td>3.6972</td>\n      <td>-6.5064</td>\n      <td>10.0772</td>\n      <td>4.8783</td>\n      <td>0.3231</td>\n      <td>0.7321</td>\n      <td>-2.5479</td>\n      <td>1.9527</td>\n      <td>...</td>\n      <td>0.2881</td>\n      <td>-9.9658</td>\n      <td>-0.1031</td>\n      <td>4.0926</td>\n      <td>4.6306</td>\n      <td>-9.9658</td>\n      <td>8</td>\n      <td>52</td>\n      <td>1</td>\n      <td>5</td>\n    </tr>\n    <tr>\n      <th>...</th>\n      <td>...</td>\n      <td>...</td>\n      <td>...</td>\n      <td>...</td>\n      <td>...</td>\n      <td>...</td>\n      <td>...</td>\n      <td>...</td>\n      <td>...</td>\n      <td>...</td>\n      <td>...</td>\n      <td>...</td>\n      <td>...</td>\n      <td>...</td>\n      <td>...</td>\n      <td>...</td>\n      <td>...</td>\n      <td>...</td>\n      <td>...</td>\n      <td>...</td>\n      <td>...</td>\n    </tr>\n    <tr>\n      <th>1952</th>\n      <td>5.7469</td>\n      <td>1.4547</td>\n      <td>4.4542</td>\n      <td>-4.2934</td>\n      <td>10.9842</td>\n      <td>4.8997</td>\n      <td>-2.8262</td>\n      <td>0.7832</td>\n      <td>-4.0350</td>\n      <td>1.4911</td>\n      <td>...</td>\n      <td>0.8164</td>\n      <td>-3.6259</td>\n      <td>0.2881</td>\n      <td>1.5115</td>\n      <td>5.9789</td>\n      <td>-9.9658</td>\n      <td>29</td>\n      <td>27</td>\n      <td>1</td>\n      <td>5</td>\n    </tr>\n    <tr>\n      <th>1953</th>\n      <td>6.1196</td>\n      <td>1.5514</td>\n      <td>3.9194</td>\n      <td>-3.8160</td>\n      <td>11.2873</td>\n      <td>4.3492</td>\n      <td>1.6420</td>\n      <td>0.0580</td>\n      <td>-0.9971</td>\n      <td>0.1776</td>\n      <td>...</td>\n      <td>-0.3752</td>\n      <td>-5.5735</td>\n      <td>-4.2934</td>\n      <td>3.6759</td>\n      <td>5.3615</td>\n      <td>-9.9658</td>\n      <td>29</td>\n      <td>51</td>\n      <td>0</td>\n      <td>5</td>\n    </tr>\n    <tr>\n      <th>1954</th>\n      <td>6.2782</td>\n      <td>-0.2159</td>\n      <td>2.4883</td>\n      <td>-5.5735</td>\n      <td>12.1155</td>\n      <td>3.9534</td>\n      <td>-2.2447</td>\n      <td>-1.2481</td>\n      <td>-4.6082</td>\n      <td>-0.8084</td>\n      <td>...</td>\n      <td>-0.9971</td>\n      <td>-5.0116</td>\n      <td>-0.5125</td>\n      <td>3.6301</td>\n      <td>6.4278</td>\n      <td>-9.9658</td>\n      <td>29</td>\n      <td>29</td>\n      <td>1</td>\n      <td>5</td>\n    </tr>\n    <tr>\n      <th>1955</th>\n      <td>6.5600</td>\n      <td>0.9935</td>\n      <td>3.5060</td>\n      <td>-9.9658</td>\n      <td>11.8054</td>\n      <td>4.3456</td>\n      <td>-2.9324</td>\n      <td>-1.6394</td>\n      <td>-9.9658</td>\n      <td>-0.1345</td>\n      <td>...</td>\n      <td>-1.1488</td>\n      <td>-3.4580</td>\n      <td>0.2522</td>\n      <td>3.5742</td>\n      <td>6.2489</td>\n      <td>-9.9658</td>\n      <td>29</td>\n      <td>12</td>\n      <td>1</td>\n      <td>5</td>\n    </tr>\n    <tr>\n      <th>1956</th>\n      <td>6.1453</td>\n      <td>1.9340</td>\n      <td>5.0387</td>\n      <td>-3.6259</td>\n      <td>10.8602</td>\n      <td>4.8012</td>\n      <td>-3.3076</td>\n      <td>0.7999</td>\n      <td>-3.1714</td>\n      <td>1.2875</td>\n      <td>...</td>\n      <td>0.4552</td>\n      <td>-2.8262</td>\n      <td>0.7058</td>\n      <td>1.3454</td>\n      <td>6.2717</td>\n      <td>-9.9658</td>\n      <td>29</td>\n      <td>31</td>\n      <td>1</td>\n      <td>3</td>\n    </tr>\n  </tbody>\n</table>\n<p>1957 rows × 19242 columns</p>\n</div>"
          },
          "metadata": {}
        }
      ]
    },
    {
      "cell_type": "code",
      "source": [
        "test_split_2_dummies = test_split_2.copy()\n",
        "test_split_2_dummies = pd.get_dummies(test_split_2_dummies)\n",
        "\n",
        "X_test_2 = test_split_2_dummies.drop(columns_to_drop, axis=1).copy()\n",
        "y_test_2 = test_split_2_dummies['cancer type abbreviation'].copy()"
      ],
      "metadata": {
        "id": "9QewHoOke2Ky",
        "execution": {
          "iopub.status.busy": "2023-03-07T17:09:18.575020Z",
          "iopub.execute_input": "2023-03-07T17:09:18.575680Z",
          "iopub.status.idle": "2023-03-07T17:09:19.461490Z",
          "shell.execute_reply.started": "2023-03-07T17:09:18.575625Z",
          "shell.execute_reply": "2023-03-07T17:09:19.459950Z"
        },
        "trusted": true
      },
      "execution_count": null,
      "outputs": []
    },
    {
      "cell_type": "code",
      "source": [
        "train_split_2= pd.read_csv(\"./train_split_2.csv\", sep=',')\n",
        "# train_split_1"
      ],
      "metadata": {
        "id": "TRvQmKsoe2K0",
        "execution": {
          "iopub.status.busy": "2023-03-07T17:09:24.195306Z",
          "iopub.execute_input": "2023-03-07T17:09:24.195910Z",
          "iopub.status.idle": "2023-03-07T17:10:49.819666Z",
          "shell.execute_reply.started": "2023-03-07T17:09:24.195862Z",
          "shell.execute_reply": "2023-03-07T17:10:49.818387Z"
        },
        "trusted": true
      },
      "execution_count": null,
      "outputs": []
    },
    {
      "cell_type": "code",
      "source": [
        "train_split_2_dummies = train_split_2.copy()\n",
        "train_split_2_dummies = pd.get_dummies(train_split_2_dummies)\n",
        "\n",
        "X_train_2 = train_split_2_dummies.drop(columns_to_drop, axis=1).copy()\n",
        "y_train_2 = train_split_2_dummies['cancer type abbreviation'].copy()"
      ],
      "metadata": {
        "id": "Bg4JScxge2K2",
        "execution": {
          "iopub.status.busy": "2023-03-07T17:10:54.513598Z",
          "iopub.execute_input": "2023-03-07T17:10:54.514389Z",
          "iopub.status.idle": "2023-03-07T17:10:57.725571Z",
          "shell.execute_reply.started": "2023-03-07T17:10:54.514344Z",
          "shell.execute_reply": "2023-03-07T17:10:57.724033Z"
        },
        "trusted": true
      },
      "execution_count": null,
      "outputs": []
    },
    {
      "cell_type": "code",
      "source": [
        "X_train2=X_train_2.copy()\n",
        "y_train2=y_train_2.copy()"
      ],
      "metadata": {
        "id": "jTIcB9oXe2K3",
        "execution": {
          "iopub.status.busy": "2023-03-07T17:10:57.728199Z",
          "iopub.execute_input": "2023-03-07T17:10:57.728735Z",
          "iopub.status.idle": "2023-03-07T17:10:58.199109Z",
          "shell.execute_reply.started": "2023-03-07T17:10:57.728686Z",
          "shell.execute_reply": "2023-03-07T17:10:58.198029Z"
        },
        "trusted": true
      },
      "execution_count": null,
      "outputs": []
    },
    {
      "cell_type": "code",
      "source": [
        "model_2=tabNetClassifier(X_train2,y_train2,'tabnet_model_2.pkl')\n",
        "\n",
        "accuracy_2, precision_2, recall_2, f1_2, cm2 = classificationReport(model_2, X_test_2,y_test_2)"
      ],
      "metadata": {
        "id": "uyQJ6IzFdSoO"
      },
      "execution_count": null,
      "outputs": []
    },
    {
      "cell_type": "markdown",
      "source": [
        "# 3"
      ],
      "metadata": {
        "id": "a1g_riLbgAuh"
      }
    },
    {
      "cell_type": "code",
      "source": [
        "test_split_3= pd.read_csv(\"./test_split_3.csv\", sep=',')\n",
        "test_split_3"
      ],
      "metadata": {
        "colab": {
          "base_uri": "https://localhost:8080/",
          "height": 505
        },
        "id": "05ZM2UYLgAu2",
        "outputId": "01c074cf-1916-406d-800e-d079034ba76f",
        "execution": {
          "iopub.status.busy": "2023-03-07T17:24:39.075259Z",
          "iopub.execute_input": "2023-03-07T17:24:39.075694Z",
          "iopub.status.idle": "2023-03-07T17:25:00.425574Z",
          "shell.execute_reply.started": "2023-03-07T17:24:39.075658Z",
          "shell.execute_reply": "2023-03-07T17:25:00.423989Z"
        },
        "trusted": true
      },
      "execution_count": null,
      "outputs": [
        {
          "execution_count": 4,
          "output_type": "execute_result",
          "data": {
            "text/plain": "       RAB4B   TIGAR   RNF44   DNAH3   RPL23A   ARL8B   CALB2   DACH1    FMO2  \\\n0     4.5982  4.1277  4.1261 -6.5064  10.0168  5.6525 -0.3201 -1.1811 -1.3921   \n1     4.6713  3.2450  3.3364 -6.5064   9.3261  5.6372  4.2736 -2.0529  1.0847   \n2     5.7748  4.0593  3.9892 -2.7274   9.2628  4.7645  2.9966  0.6969 -1.1811   \n3     5.0462  2.1766  3.7836 -3.8160   9.0157  5.3972  0.3907 -0.3940 -0.7834   \n4     5.2502  3.0092  3.7529 -9.9658  10.4801  5.0206 -0.1031 -1.7322 -2.8262   \n...      ...     ...     ...     ...      ...     ...     ...     ...     ...   \n1952  5.6235  1.7141  5.1314 -4.0350  10.5520  4.8954 -0.8863  1.5661 -2.9324   \n1953  4.6770  1.6093  4.5230 -5.5735  10.2727  5.1522 -2.1779  2.3251 -0.6643   \n1954  5.7115  1.8524  5.2246 -5.5735  10.5343  4.6566 -1.3548  1.8363 -1.1172   \n1955  6.0157  0.5763  3.8279 -9.9658  10.7721  3.9403 -0.9686 -2.5479 -0.6643   \n1956  5.2817  2.4571  5.1396 -9.9658  10.1124  4.9644 -2.8262 -1.2142 -5.5735   \n\n      ZNF708  ...  KIF16B  CYP4F2   TENM1   BATF3  PPP6R1   OR8D4  \\\n0     1.5950  ...  2.1798 -6.5064  1.9034  2.7721  4.6077 -9.9658   \n1     1.6558  ...  2.4831 -4.0350  1.2875  2.5924  4.6826 -9.9658   \n2     1.8363  ...  1.0847 -3.6259 -0.1345  1.2636  4.1186 -9.9658   \n3     2.0218  ...  1.6920 -2.2447 -0.4921  1.3051  4.7296 -9.9658   \n4     1.5758  ... -0.2498 -4.6082  0.3115  4.1716  4.0401 -9.9658   \n...      ...  ...     ...     ...     ...     ...     ...     ...   \n1952  1.7185  ...  1.6420 -2.8262  0.7832  2.0638  6.1183 -9.9658   \n1953  1.9968  ...  2.2113 -5.0116 -1.6850  1.5415  5.0299 -9.9658   \n1954  2.2753  ...  1.9895 -2.4659  1.0222  0.1257  6.1861 -9.9658   \n1955  0.7058  ...  0.6880 -4.6082 -2.1140  2.6325  5.9206 -9.9658   \n1956  0.9862  ...  2.8076 -4.2934 -3.6259  1.1117  5.9932 -9.9658   \n\n      cancer type abbreviation  age_at_initial_pathologic_diagnosis  gender  \\\n0                            8                                   44       1   \n1                            8                                   31       0   \n2                            8                                   49       1   \n3                            8                                   60       1   \n4                            8                                   22       0   \n...                        ...                                  ...     ...   \n1952                        29                                   53       1   \n1953                        29                                   58       0   \n1954                        29                                   47       1   \n1955                        29                                    3       1   \n1956                        29                                   57       0   \n\n      race  \n0        5  \n1        5  \n2        5  \n3        5  \n4        5  \n...    ...  \n1952     5  \n1953     2  \n1954     5  \n1955     2  \n1956     5  \n\n[1957 rows x 19242 columns]",
            "text/html": "<div>\n<style scoped>\n    .dataframe tbody tr th:only-of-type {\n        vertical-align: middle;\n    }\n\n    .dataframe tbody tr th {\n        vertical-align: top;\n    }\n\n    .dataframe thead th {\n        text-align: right;\n    }\n</style>\n<table border=\"1\" class=\"dataframe\">\n  <thead>\n    <tr style=\"text-align: right;\">\n      <th></th>\n      <th>RAB4B</th>\n      <th>TIGAR</th>\n      <th>RNF44</th>\n      <th>DNAH3</th>\n      <th>RPL23A</th>\n      <th>ARL8B</th>\n      <th>CALB2</th>\n      <th>DACH1</th>\n      <th>FMO2</th>\n      <th>ZNF708</th>\n      <th>...</th>\n      <th>KIF16B</th>\n      <th>CYP4F2</th>\n      <th>TENM1</th>\n      <th>BATF3</th>\n      <th>PPP6R1</th>\n      <th>OR8D4</th>\n      <th>cancer type abbreviation</th>\n      <th>age_at_initial_pathologic_diagnosis</th>\n      <th>gender</th>\n      <th>race</th>\n    </tr>\n  </thead>\n  <tbody>\n    <tr>\n      <th>0</th>\n      <td>4.5982</td>\n      <td>4.1277</td>\n      <td>4.1261</td>\n      <td>-6.5064</td>\n      <td>10.0168</td>\n      <td>5.6525</td>\n      <td>-0.3201</td>\n      <td>-1.1811</td>\n      <td>-1.3921</td>\n      <td>1.5950</td>\n      <td>...</td>\n      <td>2.1798</td>\n      <td>-6.5064</td>\n      <td>1.9034</td>\n      <td>2.7721</td>\n      <td>4.6077</td>\n      <td>-9.9658</td>\n      <td>8</td>\n      <td>44</td>\n      <td>1</td>\n      <td>5</td>\n    </tr>\n    <tr>\n      <th>1</th>\n      <td>4.6713</td>\n      <td>3.2450</td>\n      <td>3.3364</td>\n      <td>-6.5064</td>\n      <td>9.3261</td>\n      <td>5.6372</td>\n      <td>4.2736</td>\n      <td>-2.0529</td>\n      <td>1.0847</td>\n      <td>1.6558</td>\n      <td>...</td>\n      <td>2.4831</td>\n      <td>-4.0350</td>\n      <td>1.2875</td>\n      <td>2.5924</td>\n      <td>4.6826</td>\n      <td>-9.9658</td>\n      <td>8</td>\n      <td>31</td>\n      <td>0</td>\n      <td>5</td>\n    </tr>\n    <tr>\n      <th>2</th>\n      <td>5.7748</td>\n      <td>4.0593</td>\n      <td>3.9892</td>\n      <td>-2.7274</td>\n      <td>9.2628</td>\n      <td>4.7645</td>\n      <td>2.9966</td>\n      <td>0.6969</td>\n      <td>-1.1811</td>\n      <td>1.8363</td>\n      <td>...</td>\n      <td>1.0847</td>\n      <td>-3.6259</td>\n      <td>-0.1345</td>\n      <td>1.2636</td>\n      <td>4.1186</td>\n      <td>-9.9658</td>\n      <td>8</td>\n      <td>49</td>\n      <td>1</td>\n      <td>5</td>\n    </tr>\n    <tr>\n      <th>3</th>\n      <td>5.0462</td>\n      <td>2.1766</td>\n      <td>3.7836</td>\n      <td>-3.8160</td>\n      <td>9.0157</td>\n      <td>5.3972</td>\n      <td>0.3907</td>\n      <td>-0.3940</td>\n      <td>-0.7834</td>\n      <td>2.0218</td>\n      <td>...</td>\n      <td>1.6920</td>\n      <td>-2.2447</td>\n      <td>-0.4921</td>\n      <td>1.3051</td>\n      <td>4.7296</td>\n      <td>-9.9658</td>\n      <td>8</td>\n      <td>60</td>\n      <td>1</td>\n      <td>5</td>\n    </tr>\n    <tr>\n      <th>4</th>\n      <td>5.2502</td>\n      <td>3.0092</td>\n      <td>3.7529</td>\n      <td>-9.9658</td>\n      <td>10.4801</td>\n      <td>5.0206</td>\n      <td>-0.1031</td>\n      <td>-1.7322</td>\n      <td>-2.8262</td>\n      <td>1.5758</td>\n      <td>...</td>\n      <td>-0.2498</td>\n      <td>-4.6082</td>\n      <td>0.3115</td>\n      <td>4.1716</td>\n      <td>4.0401</td>\n      <td>-9.9658</td>\n      <td>8</td>\n      <td>22</td>\n      <td>0</td>\n      <td>5</td>\n    </tr>\n    <tr>\n      <th>...</th>\n      <td>...</td>\n      <td>...</td>\n      <td>...</td>\n      <td>...</td>\n      <td>...</td>\n      <td>...</td>\n      <td>...</td>\n      <td>...</td>\n      <td>...</td>\n      <td>...</td>\n      <td>...</td>\n      <td>...</td>\n      <td>...</td>\n      <td>...</td>\n      <td>...</td>\n      <td>...</td>\n      <td>...</td>\n      <td>...</td>\n      <td>...</td>\n      <td>...</td>\n      <td>...</td>\n    </tr>\n    <tr>\n      <th>1952</th>\n      <td>5.6235</td>\n      <td>1.7141</td>\n      <td>5.1314</td>\n      <td>-4.0350</td>\n      <td>10.5520</td>\n      <td>4.8954</td>\n      <td>-0.8863</td>\n      <td>1.5661</td>\n      <td>-2.9324</td>\n      <td>1.7185</td>\n      <td>...</td>\n      <td>1.6420</td>\n      <td>-2.8262</td>\n      <td>0.7832</td>\n      <td>2.0638</td>\n      <td>6.1183</td>\n      <td>-9.9658</td>\n      <td>29</td>\n      <td>53</td>\n      <td>1</td>\n      <td>5</td>\n    </tr>\n    <tr>\n      <th>1953</th>\n      <td>4.6770</td>\n      <td>1.6093</td>\n      <td>4.5230</td>\n      <td>-5.5735</td>\n      <td>10.2727</td>\n      <td>5.1522</td>\n      <td>-2.1779</td>\n      <td>2.3251</td>\n      <td>-0.6643</td>\n      <td>1.9968</td>\n      <td>...</td>\n      <td>2.2113</td>\n      <td>-5.0116</td>\n      <td>-1.6850</td>\n      <td>1.5415</td>\n      <td>5.0299</td>\n      <td>-9.9658</td>\n      <td>29</td>\n      <td>58</td>\n      <td>0</td>\n      <td>2</td>\n    </tr>\n    <tr>\n      <th>1954</th>\n      <td>5.7115</td>\n      <td>1.8524</td>\n      <td>5.2246</td>\n      <td>-5.5735</td>\n      <td>10.5343</td>\n      <td>4.6566</td>\n      <td>-1.3548</td>\n      <td>1.8363</td>\n      <td>-1.1172</td>\n      <td>2.2753</td>\n      <td>...</td>\n      <td>1.9895</td>\n      <td>-2.4659</td>\n      <td>1.0222</td>\n      <td>0.1257</td>\n      <td>6.1861</td>\n      <td>-9.9658</td>\n      <td>29</td>\n      <td>47</td>\n      <td>1</td>\n      <td>5</td>\n    </tr>\n    <tr>\n      <th>1955</th>\n      <td>6.0157</td>\n      <td>0.5763</td>\n      <td>3.8279</td>\n      <td>-9.9658</td>\n      <td>10.7721</td>\n      <td>3.9403</td>\n      <td>-0.9686</td>\n      <td>-2.5479</td>\n      <td>-0.6643</td>\n      <td>0.7058</td>\n      <td>...</td>\n      <td>0.6880</td>\n      <td>-4.6082</td>\n      <td>-2.1140</td>\n      <td>2.6325</td>\n      <td>5.9206</td>\n      <td>-9.9658</td>\n      <td>29</td>\n      <td>3</td>\n      <td>1</td>\n      <td>2</td>\n    </tr>\n    <tr>\n      <th>1956</th>\n      <td>5.2817</td>\n      <td>2.4571</td>\n      <td>5.1396</td>\n      <td>-9.9658</td>\n      <td>10.1124</td>\n      <td>4.9644</td>\n      <td>-2.8262</td>\n      <td>-1.2142</td>\n      <td>-5.5735</td>\n      <td>0.9862</td>\n      <td>...</td>\n      <td>2.8076</td>\n      <td>-4.2934</td>\n      <td>-3.6259</td>\n      <td>1.1117</td>\n      <td>5.9932</td>\n      <td>-9.9658</td>\n      <td>29</td>\n      <td>57</td>\n      <td>0</td>\n      <td>5</td>\n    </tr>\n  </tbody>\n</table>\n<p>1957 rows × 19242 columns</p>\n</div>"
          },
          "metadata": {}
        }
      ]
    },
    {
      "cell_type": "code",
      "source": [
        "test_split_3_dummies = test_split_3.copy()\n",
        "test_split_3_dummies = pd.get_dummies(test_split_3_dummies)\n",
        "\n",
        "X_test_3 = test_split_3_dummies.drop(columns_to_drop, axis=1).copy()\n",
        "y_test_3 = test_split_3_dummies['cancer type abbreviation'].copy()"
      ],
      "metadata": {
        "id": "e7jVhuNOgAu3",
        "execution": {
          "iopub.status.busy": "2023-03-07T17:25:00.428789Z",
          "iopub.execute_input": "2023-03-07T17:25:00.429517Z",
          "iopub.status.idle": "2023-03-07T17:25:00.970984Z",
          "shell.execute_reply.started": "2023-03-07T17:25:00.429462Z",
          "shell.execute_reply": "2023-03-07T17:25:00.969782Z"
        },
        "trusted": true
      },
      "execution_count": null,
      "outputs": []
    },
    {
      "cell_type": "code",
      "source": [
        "train_split_3= pd.read_csv(\"./train_split_3.csv\", sep=',')\n",
        "# train_split_1"
      ],
      "metadata": {
        "id": "kXjLzxy0gAu3",
        "execution": {
          "iopub.status.busy": "2023-03-07T17:25:00.972700Z",
          "iopub.execute_input": "2023-03-07T17:25:00.973121Z",
          "iopub.status.idle": "2023-03-07T17:26:22.960773Z",
          "shell.execute_reply.started": "2023-03-07T17:25:00.973079Z",
          "shell.execute_reply": "2023-03-07T17:26:22.959473Z"
        },
        "trusted": true
      },
      "execution_count": null,
      "outputs": []
    },
    {
      "cell_type": "code",
      "source": [
        "train_split_3_dummies = train_split_3.copy()\n",
        "train_split_3_dummies = pd.get_dummies(train_split_3_dummies)\n",
        "\n",
        "X_train_3 = train_split_3_dummies.drop(columns_to_drop, axis=1).copy()\n",
        "y_train_3 = train_split_3_dummies['cancer type abbreviation'].copy()"
      ],
      "metadata": {
        "id": "R0LKSara_6tL",
        "execution": {
          "iopub.status.busy": "2023-03-07T17:26:22.964104Z",
          "iopub.execute_input": "2023-03-07T17:26:22.964585Z",
          "iopub.status.idle": "2023-03-07T17:26:25.044475Z",
          "shell.execute_reply.started": "2023-03-07T17:26:22.964532Z",
          "shell.execute_reply": "2023-03-07T17:26:25.043280Z"
        },
        "trusted": true
      },
      "execution_count": null,
      "outputs": []
    },
    {
      "cell_type": "code",
      "source": [
        "X_train3=X_train_3.copy()\n",
        "y_train3=y_train_3.copy()"
      ],
      "metadata": {
        "id": "3m5PqpuxgAu4",
        "execution": {
          "iopub.status.busy": "2023-03-07T17:26:25.046104Z",
          "iopub.execute_input": "2023-03-07T17:26:25.047246Z",
          "iopub.status.idle": "2023-03-07T17:26:25.520794Z",
          "shell.execute_reply.started": "2023-03-07T17:26:25.047205Z",
          "shell.execute_reply": "2023-03-07T17:26:25.519578Z"
        },
        "trusted": true
      },
      "execution_count": null,
      "outputs": []
    },
    {
      "cell_type": "code",
      "source": [
        "model_3=tabNetClassifier(X_train3,y_train3,'tabnet_model_3.pkl')\n",
        "\n",
        "accuracy_3, precision_3, recall_3, f1_3,cm3 = classificationReport(model_3, X_test_3,y_test_3)"
      ],
      "metadata": {
        "id": "P5hOGS5cAiY5"
      },
      "execution_count": null,
      "outputs": []
    },
    {
      "cell_type": "markdown",
      "source": [
        "# 4"
      ],
      "metadata": {
        "id": "st7pUpq0hOK1"
      }
    },
    {
      "cell_type": "code",
      "source": [
        "test_split_4= pd.read_csv(\"./test_split_4.csv\", sep=',')\n",
        "test_split_4"
      ],
      "metadata": {
        "colab": {
          "base_uri": "https://localhost:8080/"
        },
        "id": "TbcpgdTnhOK-",
        "outputId": "76690c80-138a-4d5c-8310-bab5c30c4316",
        "execution": {
          "iopub.status.busy": "2023-03-07T17:53:16.465457Z",
          "iopub.execute_input": "2023-03-07T17:53:16.465859Z",
          "iopub.status.idle": "2023-03-07T17:53:37.119278Z",
          "shell.execute_reply.started": "2023-03-07T17:53:16.465809Z",
          "shell.execute_reply": "2023-03-07T17:53:37.116926Z"
        },
        "trusted": true
      },
      "execution_count": null,
      "outputs": [
        {
          "execution_count": 6,
          "output_type": "execute_result",
          "data": {
            "text/plain": "       RAB4B   TIGAR   RNF44   DNAH3   RPL23A   ARL8B   CALB2   DACH1    FMO2  \\\n0     4.7138  4.1178  2.9090 -1.7809   9.5309  5.4973 -1.4305 -1.7809 -0.2498   \n1     4.5318  2.5876  5.2642 -9.9658   9.6668  4.8580 -4.2934 -2.8262 -2.4659   \n2     4.8324  3.0411  3.7794 -5.5735   9.6898  5.1102  7.4223 -2.4659  1.0573   \n3     4.9397  2.5561  3.9459 -6.5064   9.4092  5.3958  3.4304 -0.6416 -0.4521   \n4     5.2502  2.3251  3.8401 -9.9658  10.0487  5.3961  0.8726 -1.7322 -0.0725   \n...      ...     ...     ...     ...      ...     ...     ...     ...     ...   \n1952  5.4813  2.4252  5.9570 -1.6850   9.9599  4.9251 -0.9406  1.5115 -0.0425   \n1953  4.0567  1.3679  5.4219  0.7664   9.8447  4.7677 -0.5973  3.5299 -3.4580   \n1954  4.6165  1.6512  5.2032  0.4125   9.9029  4.7285  1.9638  1.7446 -0.2671   \n1955  5.6691  1.7660  5.2480 -4.2934  10.7449  3.9270 -0.3940  0.8568  0.6517   \n1956  4.4135  2.3019  4.9491 -1.9942   9.8050  4.1604  1.1382 -2.1140 -0.6193   \n\n      ZNF708  ...  KIF16B  CYP4F2   TENM1   BATF3  PPP6R1   OR8D4  \\\n0     0.6425  ...  2.4063 -4.0350 -2.5479  3.4635  4.3541 -9.9658   \n1     2.2051  ...  0.7407 -9.9658 -3.0469  0.9268  5.2499 -9.9658   \n2     1.4228  ...  2.0395 -1.3921 -1.9379  0.7579  4.7986 -9.9658   \n3     2.1541  ...  1.4174 -9.9658 -0.2159  0.7832  4.9855 -9.9658   \n4     2.5338  ...  1.8840 -1.2828  1.0983  2.6738  4.1820 -9.9658   \n...      ...  ...     ...     ...     ...     ...     ...     ...   \n1952  2.2723  ...  1.4808 -0.9406  1.0915  1.9931  5.9258 -9.9658   \n1953  2.4306  ...  2.5900 -4.0350 -2.8262  0.2881  4.9103 -9.9658   \n1954  1.3956  ...  1.7229 -3.8160 -5.5735 -0.7346  4.9458 -9.9658   \n1955  1.1770  ...  0.8568 -3.6259 -9.9658  2.0912  5.4125 -9.9658   \n1956  1.3397  ...  1.8564  1.2271 -5.5735  0.8408  4.5361 -9.9658   \n\n      cancer type abbreviation  age_at_initial_pathologic_diagnosis  gender  \\\n0                            8                                   37       1   \n1                            8                                   49       0   \n2                            8                                   34       1   \n3                            8                                   41       0   \n4                            8                                   56       1   \n...                        ...                                  ...     ...   \n1952                        29                                   32       1   \n1953                        29                                   56       1   \n1954                        29                                   61       0   \n1955                        29                                   64       0   \n1956                         4                                   59       0   \n\n      race  \n0        5  \n1        5  \n2        5  \n3        3  \n4        5  \n...    ...  \n1952     5  \n1953     5  \n1954     5  \n1955     5  \n1956     2  \n\n[1957 rows x 19242 columns]",
            "text/html": "<div>\n<style scoped>\n    .dataframe tbody tr th:only-of-type {\n        vertical-align: middle;\n    }\n\n    .dataframe tbody tr th {\n        vertical-align: top;\n    }\n\n    .dataframe thead th {\n        text-align: right;\n    }\n</style>\n<table border=\"1\" class=\"dataframe\">\n  <thead>\n    <tr style=\"text-align: right;\">\n      <th></th>\n      <th>RAB4B</th>\n      <th>TIGAR</th>\n      <th>RNF44</th>\n      <th>DNAH3</th>\n      <th>RPL23A</th>\n      <th>ARL8B</th>\n      <th>CALB2</th>\n      <th>DACH1</th>\n      <th>FMO2</th>\n      <th>ZNF708</th>\n      <th>...</th>\n      <th>KIF16B</th>\n      <th>CYP4F2</th>\n      <th>TENM1</th>\n      <th>BATF3</th>\n      <th>PPP6R1</th>\n      <th>OR8D4</th>\n      <th>cancer type abbreviation</th>\n      <th>age_at_initial_pathologic_diagnosis</th>\n      <th>gender</th>\n      <th>race</th>\n    </tr>\n  </thead>\n  <tbody>\n    <tr>\n      <th>0</th>\n      <td>4.7138</td>\n      <td>4.1178</td>\n      <td>2.9090</td>\n      <td>-1.7809</td>\n      <td>9.5309</td>\n      <td>5.4973</td>\n      <td>-1.4305</td>\n      <td>-1.7809</td>\n      <td>-0.2498</td>\n      <td>0.6425</td>\n      <td>...</td>\n      <td>2.4063</td>\n      <td>-4.0350</td>\n      <td>-2.5479</td>\n      <td>3.4635</td>\n      <td>4.3541</td>\n      <td>-9.9658</td>\n      <td>8</td>\n      <td>37</td>\n      <td>1</td>\n      <td>5</td>\n    </tr>\n    <tr>\n      <th>1</th>\n      <td>4.5318</td>\n      <td>2.5876</td>\n      <td>5.2642</td>\n      <td>-9.9658</td>\n      <td>9.6668</td>\n      <td>4.8580</td>\n      <td>-4.2934</td>\n      <td>-2.8262</td>\n      <td>-2.4659</td>\n      <td>2.2051</td>\n      <td>...</td>\n      <td>0.7407</td>\n      <td>-9.9658</td>\n      <td>-3.0469</td>\n      <td>0.9268</td>\n      <td>5.2499</td>\n      <td>-9.9658</td>\n      <td>8</td>\n      <td>49</td>\n      <td>0</td>\n      <td>5</td>\n    </tr>\n    <tr>\n      <th>2</th>\n      <td>4.8324</td>\n      <td>3.0411</td>\n      <td>3.7794</td>\n      <td>-5.5735</td>\n      <td>9.6898</td>\n      <td>5.1102</td>\n      <td>7.4223</td>\n      <td>-2.4659</td>\n      <td>1.0573</td>\n      <td>1.4228</td>\n      <td>...</td>\n      <td>2.0395</td>\n      <td>-1.3921</td>\n      <td>-1.9379</td>\n      <td>0.7579</td>\n      <td>4.7986</td>\n      <td>-9.9658</td>\n      <td>8</td>\n      <td>34</td>\n      <td>1</td>\n      <td>5</td>\n    </tr>\n    <tr>\n      <th>3</th>\n      <td>4.9397</td>\n      <td>2.5561</td>\n      <td>3.9459</td>\n      <td>-6.5064</td>\n      <td>9.4092</td>\n      <td>5.3958</td>\n      <td>3.4304</td>\n      <td>-0.6416</td>\n      <td>-0.4521</td>\n      <td>2.1541</td>\n      <td>...</td>\n      <td>1.4174</td>\n      <td>-9.9658</td>\n      <td>-0.2159</td>\n      <td>0.7832</td>\n      <td>4.9855</td>\n      <td>-9.9658</td>\n      <td>8</td>\n      <td>41</td>\n      <td>0</td>\n      <td>3</td>\n    </tr>\n    <tr>\n      <th>4</th>\n      <td>5.2502</td>\n      <td>2.3251</td>\n      <td>3.8401</td>\n      <td>-9.9658</td>\n      <td>10.0487</td>\n      <td>5.3961</td>\n      <td>0.8726</td>\n      <td>-1.7322</td>\n      <td>-0.0725</td>\n      <td>2.5338</td>\n      <td>...</td>\n      <td>1.8840</td>\n      <td>-1.2828</td>\n      <td>1.0983</td>\n      <td>2.6738</td>\n      <td>4.1820</td>\n      <td>-9.9658</td>\n      <td>8</td>\n      <td>56</td>\n      <td>1</td>\n      <td>5</td>\n    </tr>\n    <tr>\n      <th>...</th>\n      <td>...</td>\n      <td>...</td>\n      <td>...</td>\n      <td>...</td>\n      <td>...</td>\n      <td>...</td>\n      <td>...</td>\n      <td>...</td>\n      <td>...</td>\n      <td>...</td>\n      <td>...</td>\n      <td>...</td>\n      <td>...</td>\n      <td>...</td>\n      <td>...</td>\n      <td>...</td>\n      <td>...</td>\n      <td>...</td>\n      <td>...</td>\n      <td>...</td>\n      <td>...</td>\n    </tr>\n    <tr>\n      <th>1952</th>\n      <td>5.4813</td>\n      <td>2.4252</td>\n      <td>5.9570</td>\n      <td>-1.6850</td>\n      <td>9.9599</td>\n      <td>4.9251</td>\n      <td>-0.9406</td>\n      <td>1.5115</td>\n      <td>-0.0425</td>\n      <td>2.2723</td>\n      <td>...</td>\n      <td>1.4808</td>\n      <td>-0.9406</td>\n      <td>1.0915</td>\n      <td>1.9931</td>\n      <td>5.9258</td>\n      <td>-9.9658</td>\n      <td>29</td>\n      <td>32</td>\n      <td>1</td>\n      <td>5</td>\n    </tr>\n    <tr>\n      <th>1953</th>\n      <td>4.0567</td>\n      <td>1.3679</td>\n      <td>5.4219</td>\n      <td>0.7664</td>\n      <td>9.8447</td>\n      <td>4.7677</td>\n      <td>-0.5973</td>\n      <td>3.5299</td>\n      <td>-3.4580</td>\n      <td>2.4306</td>\n      <td>...</td>\n      <td>2.5900</td>\n      <td>-4.0350</td>\n      <td>-2.8262</td>\n      <td>0.2881</td>\n      <td>4.9103</td>\n      <td>-9.9658</td>\n      <td>29</td>\n      <td>56</td>\n      <td>1</td>\n      <td>5</td>\n    </tr>\n    <tr>\n      <th>1954</th>\n      <td>4.6165</td>\n      <td>1.6512</td>\n      <td>5.2032</td>\n      <td>0.4125</td>\n      <td>9.9029</td>\n      <td>4.7285</td>\n      <td>1.9638</td>\n      <td>1.7446</td>\n      <td>-0.2671</td>\n      <td>1.3956</td>\n      <td>...</td>\n      <td>1.7229</td>\n      <td>-3.8160</td>\n      <td>-5.5735</td>\n      <td>-0.7346</td>\n      <td>4.9458</td>\n      <td>-9.9658</td>\n      <td>29</td>\n      <td>61</td>\n      <td>0</td>\n      <td>5</td>\n    </tr>\n    <tr>\n      <th>1955</th>\n      <td>5.6691</td>\n      <td>1.7660</td>\n      <td>5.2480</td>\n      <td>-4.2934</td>\n      <td>10.7449</td>\n      <td>3.9270</td>\n      <td>-0.3940</td>\n      <td>0.8568</td>\n      <td>0.6517</td>\n      <td>1.1770</td>\n      <td>...</td>\n      <td>0.8568</td>\n      <td>-3.6259</td>\n      <td>-9.9658</td>\n      <td>2.0912</td>\n      <td>5.4125</td>\n      <td>-9.9658</td>\n      <td>29</td>\n      <td>64</td>\n      <td>0</td>\n      <td>5</td>\n    </tr>\n    <tr>\n      <th>1956</th>\n      <td>4.4135</td>\n      <td>2.3019</td>\n      <td>4.9491</td>\n      <td>-1.9942</td>\n      <td>9.8050</td>\n      <td>4.1604</td>\n      <td>1.1382</td>\n      <td>-2.1140</td>\n      <td>-0.6193</td>\n      <td>1.3397</td>\n      <td>...</td>\n      <td>1.8564</td>\n      <td>1.2271</td>\n      <td>-5.5735</td>\n      <td>0.8408</td>\n      <td>4.5361</td>\n      <td>-9.9658</td>\n      <td>4</td>\n      <td>59</td>\n      <td>0</td>\n      <td>2</td>\n    </tr>\n  </tbody>\n</table>\n<p>1957 rows × 19242 columns</p>\n</div>"
          },
          "metadata": {}
        }
      ]
    },
    {
      "cell_type": "code",
      "source": [
        "test_split_4_dummies = test_split_4.copy()\n",
        "test_split_4_dummies = pd.get_dummies(test_split_4_dummies)\n",
        "\n",
        "X_test_4 = test_split_4_dummies.drop(columns_to_drop, axis=1).copy()\n",
        "y_test_4 = test_split_4_dummies['cancer type abbreviation'].copy()"
      ],
      "metadata": {
        "id": "otD5WjcfhOK-",
        "execution": {
          "iopub.status.busy": "2023-03-07T17:53:37.120934Z",
          "iopub.execute_input": "2023-03-07T17:53:37.121276Z",
          "iopub.status.idle": "2023-03-07T17:53:38.468257Z",
          "shell.execute_reply.started": "2023-03-07T17:53:37.121240Z",
          "shell.execute_reply": "2023-03-07T17:53:38.467130Z"
        },
        "trusted": true
      },
      "execution_count": null,
      "outputs": []
    },
    {
      "cell_type": "code",
      "source": [
        "train_split_4= pd.read_csv(\"./train_split_4.csv\", sep=',')\n",
        "# train_split_1"
      ],
      "metadata": {
        "id": "kzqiq_3DhOK-",
        "execution": {
          "iopub.status.busy": "2023-03-07T17:53:38.470562Z",
          "iopub.execute_input": "2023-03-07T17:53:38.471334Z",
          "iopub.status.idle": "2023-03-07T17:54:57.634013Z",
          "shell.execute_reply.started": "2023-03-07T17:53:38.471295Z",
          "shell.execute_reply": "2023-03-07T17:54:57.632898Z"
        },
        "trusted": true
      },
      "execution_count": null,
      "outputs": []
    },
    {
      "cell_type": "code",
      "source": [
        "train_split_4_dummies = train_split_4.copy()\n",
        "train_split_4_dummies = pd.get_dummies(train_split_4_dummies)\n",
        "\n",
        "X_train_4 = train_split_4_dummies.drop(columns_to_drop, axis=1).copy()\n",
        "y_train_4 = train_split_4_dummies['cancer type abbreviation'].copy()"
      ],
      "metadata": {
        "id": "1IqfWm-whOK-",
        "execution": {
          "iopub.status.busy": "2023-03-07T17:54:57.635917Z",
          "iopub.execute_input": "2023-03-07T17:54:57.636325Z",
          "iopub.status.idle": "2023-03-07T17:55:04.033144Z",
          "shell.execute_reply.started": "2023-03-07T17:54:57.636286Z",
          "shell.execute_reply": "2023-03-07T17:55:04.031751Z"
        },
        "trusted": true
      },
      "execution_count": null,
      "outputs": []
    },
    {
      "cell_type": "code",
      "source": [
        "X_train4=X_train_4.copy()\n",
        "y_train4=y_train_4.copy()"
      ],
      "metadata": {
        "id": "1qY8uQmChOK-",
        "execution": {
          "iopub.status.busy": "2023-03-07T17:55:04.035113Z",
          "iopub.execute_input": "2023-03-07T17:55:04.035973Z",
          "iopub.status.idle": "2023-03-07T17:55:04.529267Z",
          "shell.execute_reply.started": "2023-03-07T17:55:04.035925Z",
          "shell.execute_reply": "2023-03-07T17:55:04.528135Z"
        },
        "trusted": true
      },
      "execution_count": null,
      "outputs": []
    },
    {
      "cell_type": "code",
      "source": [
        "model_4=tabNetClassifier(X_train4,y_train4,'tabnet_model_4.pkl')\n",
        "\n",
        "accuracy_4, precision_4, recall_4, f1_4,cm4 = classificationReport(model_4, X_test_4,y_test_4)"
      ],
      "metadata": {
        "id": "8HmXaTIaAnxr"
      },
      "execution_count": null,
      "outputs": []
    },
    {
      "cell_type": "markdown",
      "source": [
        "# 5"
      ],
      "metadata": {
        "id": "MMPP9cxTh7EW"
      }
    },
    {
      "cell_type": "code",
      "source": [
        "test_split_5= pd.read_csv(\"./test_split_5.csv\", sep=',')\n",
        "test_split_5"
      ],
      "metadata": {
        "id": "dYVRLNOXh7Ef",
        "colab": {
          "base_uri": "https://localhost:8080/",
          "height": 505
        },
        "outputId": "6a39244d-567c-4663-9c5d-2eff34023231",
        "execution": {
          "iopub.status.busy": "2023-03-07T18:09:52.622438Z",
          "iopub.execute_input": "2023-03-07T18:09:52.623097Z",
          "iopub.status.idle": "2023-03-07T18:10:14.728587Z",
          "shell.execute_reply.started": "2023-03-07T18:09:52.623056Z",
          "shell.execute_reply": "2023-03-07T18:10:14.727278Z"
        },
        "trusted": true
      },
      "execution_count": null,
      "outputs": [
        {
          "execution_count": 4,
          "output_type": "execute_result",
          "data": {
            "text/plain": "       RAB4B   TIGAR   RNF44   DNAH3   RPL23A   ARL8B   CALB2   DACH1    FMO2  \\\n0     4.6759  2.4960  3.4609 -4.6082   9.7135  5.7955  1.3109  1.0293 -3.0469   \n1     5.8829  3.0252  3.3119 -6.5064   9.4547  5.4900  1.4174 -1.4305 -1.8836   \n2     5.8199  2.8076  3.9031 -6.5064   9.2346  5.6787  0.6425 -0.3383 -2.3147   \n3     5.3162  4.2758  3.4437 -5.5735   9.8965  5.6303  0.4447 -1.0559 -0.4921   \n4     5.1339  2.9186  3.5299 -3.6259   9.6870  5.7436  3.0446  1.7446 -0.4131   \n...      ...     ...     ...     ...      ...     ...     ...     ...     ...   \n1951  3.3535 -0.2159  3.1095 -9.9658   9.4021  4.2743 -5.5735 -4.2934 -1.7322   \n1952  3.5262  0.6699  2.4359 -9.9658   8.7991  3.8330 -3.3076 -2.9324  0.1257   \n1953  6.0219 -0.1665  2.6962 -4.0350  12.3251  3.7720 -0.9971 -1.5105 -1.9379   \n1954  5.0631  2.9784  3.5212 -5.5735   9.6838  5.0466  1.3956 -2.1140 -1.4699   \n1955  4.5021  2.4883  4.2914 -1.3921   9.6675  5.3768  1.0779 -0.9406  3.7699   \n\n      ZNF708  ...  KIF16B  CYP4F2   TENM1   BATF3  PPP6R1   OR8D4  \\\n0     1.3567  ...  1.9490 -3.0469 -3.0469  1.7273  4.9691 -9.9658   \n1     1.8801  ...  1.4011 -5.0116 -0.3383  3.7561  5.0184 -9.9658   \n2     3.0110  ...  1.4120 -4.6082  2.2330  4.2111  5.2877 -9.9658   \n3     1.9564  ...  1.8363 -5.0116 -5.5735  3.4411  5.1148 -9.9658   \n4     2.0638  ...  1.5013 -3.4580  1.1184  1.9377  4.1555 -9.9658   \n...      ...  ...     ...     ...     ...     ...     ...     ...   \n1951 -0.2159  ...  0.8647  6.3266 -0.6416 -0.2159  3.3307 -9.9658   \n1952 -1.8314  ...  2.0183  5.8352 -2.2447 -0.5332  3.4384 -9.9658   \n1953 -0.9686  ... -1.5522 -2.4659 -0.4921  2.9729  6.6918 -9.9658   \n1954  0.3231  ...  1.4704 -0.1031 -5.5735  2.4386  4.8530 -9.9658   \n1955  0.8327  ...  2.0776 -4.0350 -9.9658  1.5950  4.8900 -9.9658   \n\n      cancer type abbreviation  age_at_initial_pathologic_diagnosis  gender  \\\n0                            8                                   63       0   \n1                            8                                   55       0   \n2                            8                                   31       1   \n3                            8                                   58       1   \n4                            8                                   57       1   \n...                        ...                                  ...     ...   \n1951                        15                                   50       1   \n1952                        15                                   41       1   \n1953                        29                                   59       0   \n1954                         4                                   38       1   \n1955                         3                                   50       0   \n\n      race  \n0        5  \n1        5  \n2        2  \n3        5  \n4        5  \n...    ...  \n1951     5  \n1952     5  \n1953     5  \n1954     5  \n1955     5  \n\n[1956 rows x 19242 columns]",
            "text/html": "<div>\n<style scoped>\n    .dataframe tbody tr th:only-of-type {\n        vertical-align: middle;\n    }\n\n    .dataframe tbody tr th {\n        vertical-align: top;\n    }\n\n    .dataframe thead th {\n        text-align: right;\n    }\n</style>\n<table border=\"1\" class=\"dataframe\">\n  <thead>\n    <tr style=\"text-align: right;\">\n      <th></th>\n      <th>RAB4B</th>\n      <th>TIGAR</th>\n      <th>RNF44</th>\n      <th>DNAH3</th>\n      <th>RPL23A</th>\n      <th>ARL8B</th>\n      <th>CALB2</th>\n      <th>DACH1</th>\n      <th>FMO2</th>\n      <th>ZNF708</th>\n      <th>...</th>\n      <th>KIF16B</th>\n      <th>CYP4F2</th>\n      <th>TENM1</th>\n      <th>BATF3</th>\n      <th>PPP6R1</th>\n      <th>OR8D4</th>\n      <th>cancer type abbreviation</th>\n      <th>age_at_initial_pathologic_diagnosis</th>\n      <th>gender</th>\n      <th>race</th>\n    </tr>\n  </thead>\n  <tbody>\n    <tr>\n      <th>0</th>\n      <td>4.6759</td>\n      <td>2.4960</td>\n      <td>3.4609</td>\n      <td>-4.6082</td>\n      <td>9.7135</td>\n      <td>5.7955</td>\n      <td>1.3109</td>\n      <td>1.0293</td>\n      <td>-3.0469</td>\n      <td>1.3567</td>\n      <td>...</td>\n      <td>1.9490</td>\n      <td>-3.0469</td>\n      <td>-3.0469</td>\n      <td>1.7273</td>\n      <td>4.9691</td>\n      <td>-9.9658</td>\n      <td>8</td>\n      <td>63</td>\n      <td>0</td>\n      <td>5</td>\n    </tr>\n    <tr>\n      <th>1</th>\n      <td>5.8829</td>\n      <td>3.0252</td>\n      <td>3.3119</td>\n      <td>-6.5064</td>\n      <td>9.4547</td>\n      <td>5.4900</td>\n      <td>1.4174</td>\n      <td>-1.4305</td>\n      <td>-1.8836</td>\n      <td>1.8801</td>\n      <td>...</td>\n      <td>1.4011</td>\n      <td>-5.0116</td>\n      <td>-0.3383</td>\n      <td>3.7561</td>\n      <td>5.0184</td>\n      <td>-9.9658</td>\n      <td>8</td>\n      <td>55</td>\n      <td>0</td>\n      <td>5</td>\n    </tr>\n    <tr>\n      <th>2</th>\n      <td>5.8199</td>\n      <td>2.8076</td>\n      <td>3.9031</td>\n      <td>-6.5064</td>\n      <td>9.2346</td>\n      <td>5.6787</td>\n      <td>0.6425</td>\n      <td>-0.3383</td>\n      <td>-2.3147</td>\n      <td>3.0110</td>\n      <td>...</td>\n      <td>1.4120</td>\n      <td>-4.6082</td>\n      <td>2.2330</td>\n      <td>4.2111</td>\n      <td>5.2877</td>\n      <td>-9.9658</td>\n      <td>8</td>\n      <td>31</td>\n      <td>1</td>\n      <td>2</td>\n    </tr>\n    <tr>\n      <th>3</th>\n      <td>5.3162</td>\n      <td>4.2758</td>\n      <td>3.4437</td>\n      <td>-5.5735</td>\n      <td>9.8965</td>\n      <td>5.6303</td>\n      <td>0.4447</td>\n      <td>-1.0559</td>\n      <td>-0.4921</td>\n      <td>1.9564</td>\n      <td>...</td>\n      <td>1.8363</td>\n      <td>-5.0116</td>\n      <td>-5.5735</td>\n      <td>3.4411</td>\n      <td>5.1148</td>\n      <td>-9.9658</td>\n      <td>8</td>\n      <td>58</td>\n      <td>1</td>\n      <td>5</td>\n    </tr>\n    <tr>\n      <th>4</th>\n      <td>5.1339</td>\n      <td>2.9186</td>\n      <td>3.5299</td>\n      <td>-3.6259</td>\n      <td>9.6870</td>\n      <td>5.7436</td>\n      <td>3.0446</td>\n      <td>1.7446</td>\n      <td>-0.4131</td>\n      <td>2.0638</td>\n      <td>...</td>\n      <td>1.5013</td>\n      <td>-3.4580</td>\n      <td>1.1184</td>\n      <td>1.9377</td>\n      <td>4.1555</td>\n      <td>-9.9658</td>\n      <td>8</td>\n      <td>57</td>\n      <td>1</td>\n      <td>5</td>\n    </tr>\n    <tr>\n      <th>...</th>\n      <td>...</td>\n      <td>...</td>\n      <td>...</td>\n      <td>...</td>\n      <td>...</td>\n      <td>...</td>\n      <td>...</td>\n      <td>...</td>\n      <td>...</td>\n      <td>...</td>\n      <td>...</td>\n      <td>...</td>\n      <td>...</td>\n      <td>...</td>\n      <td>...</td>\n      <td>...</td>\n      <td>...</td>\n      <td>...</td>\n      <td>...</td>\n      <td>...</td>\n      <td>...</td>\n    </tr>\n    <tr>\n      <th>1951</th>\n      <td>3.3535</td>\n      <td>-0.2159</td>\n      <td>3.1095</td>\n      <td>-9.9658</td>\n      <td>9.4021</td>\n      <td>4.2743</td>\n      <td>-5.5735</td>\n      <td>-4.2934</td>\n      <td>-1.7322</td>\n      <td>-0.2159</td>\n      <td>...</td>\n      <td>0.8647</td>\n      <td>6.3266</td>\n      <td>-0.6416</td>\n      <td>-0.2159</td>\n      <td>3.3307</td>\n      <td>-9.9658</td>\n      <td>15</td>\n      <td>50</td>\n      <td>1</td>\n      <td>5</td>\n    </tr>\n    <tr>\n      <th>1952</th>\n      <td>3.5262</td>\n      <td>0.6699</td>\n      <td>2.4359</td>\n      <td>-9.9658</td>\n      <td>8.7991</td>\n      <td>3.8330</td>\n      <td>-3.3076</td>\n      <td>-2.9324</td>\n      <td>0.1257</td>\n      <td>-1.8314</td>\n      <td>...</td>\n      <td>2.0183</td>\n      <td>5.8352</td>\n      <td>-2.2447</td>\n      <td>-0.5332</td>\n      <td>3.4384</td>\n      <td>-9.9658</td>\n      <td>15</td>\n      <td>41</td>\n      <td>1</td>\n      <td>5</td>\n    </tr>\n    <tr>\n      <th>1953</th>\n      <td>6.0219</td>\n      <td>-0.1665</td>\n      <td>2.6962</td>\n      <td>-4.0350</td>\n      <td>12.3251</td>\n      <td>3.7720</td>\n      <td>-0.9971</td>\n      <td>-1.5105</td>\n      <td>-1.9379</td>\n      <td>-0.9686</td>\n      <td>...</td>\n      <td>-1.5522</td>\n      <td>-2.4659</td>\n      <td>-0.4921</td>\n      <td>2.9729</td>\n      <td>6.6918</td>\n      <td>-9.9658</td>\n      <td>29</td>\n      <td>59</td>\n      <td>0</td>\n      <td>5</td>\n    </tr>\n    <tr>\n      <th>1954</th>\n      <td>5.0631</td>\n      <td>2.9784</td>\n      <td>3.5212</td>\n      <td>-5.5735</td>\n      <td>9.6838</td>\n      <td>5.0466</td>\n      <td>1.3956</td>\n      <td>-2.1140</td>\n      <td>-1.4699</td>\n      <td>0.3231</td>\n      <td>...</td>\n      <td>1.4704</td>\n      <td>-0.1031</td>\n      <td>-5.5735</td>\n      <td>2.4386</td>\n      <td>4.8530</td>\n      <td>-9.9658</td>\n      <td>4</td>\n      <td>38</td>\n      <td>1</td>\n      <td>5</td>\n    </tr>\n    <tr>\n      <th>1955</th>\n      <td>4.5021</td>\n      <td>2.4883</td>\n      <td>4.2914</td>\n      <td>-1.3921</td>\n      <td>9.6675</td>\n      <td>5.3768</td>\n      <td>1.0779</td>\n      <td>-0.9406</td>\n      <td>3.7699</td>\n      <td>0.8327</td>\n      <td>...</td>\n      <td>2.0776</td>\n      <td>-4.0350</td>\n      <td>-9.9658</td>\n      <td>1.5950</td>\n      <td>4.8900</td>\n      <td>-9.9658</td>\n      <td>3</td>\n      <td>50</td>\n      <td>0</td>\n      <td>5</td>\n    </tr>\n  </tbody>\n</table>\n<p>1956 rows × 19242 columns</p>\n</div>"
          },
          "metadata": {}
        }
      ]
    },
    {
      "cell_type": "code",
      "source": [
        "test_split_5_dummies = test_split_5.copy()\n",
        "test_split_5_dummies = pd.get_dummies(test_split_5_dummies)\n",
        "\n",
        "X_test_5 = test_split_5_dummies.drop(columns_to_drop, axis=1).copy()\n",
        "y_test_5 = test_split_5_dummies['cancer type abbreviation'].copy()"
      ],
      "metadata": {
        "id": "AhkGzUAKh7Eg",
        "execution": {
          "iopub.status.busy": "2023-03-07T18:10:14.731281Z",
          "iopub.execute_input": "2023-03-07T18:10:14.732097Z",
          "iopub.status.idle": "2023-03-07T18:10:15.273502Z",
          "shell.execute_reply.started": "2023-03-07T18:10:14.732050Z",
          "shell.execute_reply": "2023-03-07T18:10:15.272281Z"
        },
        "trusted": true
      },
      "execution_count": null,
      "outputs": []
    },
    {
      "cell_type": "code",
      "source": [
        "train_split_5= pd.read_csv(\"./train_split_5.csv\", sep=',')\n",
        "# train_split_1"
      ],
      "metadata": {
        "id": "eXD8zLP6h7Eg",
        "execution": {
          "iopub.status.busy": "2023-03-07T18:10:15.275066Z",
          "iopub.execute_input": "2023-03-07T18:10:15.276143Z",
          "iopub.status.idle": "2023-03-07T18:11:34.021128Z",
          "shell.execute_reply.started": "2023-03-07T18:10:15.276092Z",
          "shell.execute_reply": "2023-03-07T18:11:34.019933Z"
        },
        "trusted": true
      },
      "execution_count": null,
      "outputs": []
    },
    {
      "cell_type": "code",
      "source": [
        "train_split_5_dummies = train_split_5.copy()\n",
        "train_split_5_dummies = pd.get_dummies(train_split_5_dummies)\n",
        "\n",
        "X_train_5 = train_split_5_dummies.drop(columns_to_drop, axis=1).copy()\n",
        "y_train_5 = train_split_5_dummies['cancer type abbreviation'].copy()"
      ],
      "metadata": {
        "id": "YrHY4dkmh7Eg",
        "execution": {
          "iopub.status.busy": "2023-03-07T18:11:34.024020Z",
          "iopub.execute_input": "2023-03-07T18:11:34.024314Z",
          "iopub.status.idle": "2023-03-07T18:11:36.140104Z",
          "shell.execute_reply.started": "2023-03-07T18:11:34.024284Z",
          "shell.execute_reply": "2023-03-07T18:11:36.138945Z"
        },
        "trusted": true
      },
      "execution_count": null,
      "outputs": []
    },
    {
      "cell_type": "code",
      "source": [
        "X_train5=X_train_5.copy()\n",
        "y_train5=y_train_5.copy()"
      ],
      "metadata": {
        "id": "u_fOCTuJh7Eg",
        "execution": {
          "iopub.status.busy": "2023-03-07T18:11:36.145215Z",
          "iopub.execute_input": "2023-03-07T18:11:36.147654Z",
          "iopub.status.idle": "2023-03-07T18:11:36.604892Z",
          "shell.execute_reply.started": "2023-03-07T18:11:36.147611Z",
          "shell.execute_reply": "2023-03-07T18:11:36.603715Z"
        },
        "trusted": true
      },
      "execution_count": null,
      "outputs": []
    },
    {
      "cell_type": "code",
      "source": [
        "model_5=tabNetClassifier(X_train5,y_train5,'tabnet_model_5.pkl')\n",
        "\n",
        "accuracy_5, precision_5, recall_5, f1_5,cm5 = classificationReport(model_5, X_test_5,y_test_5)"
      ],
      "metadata": {
        "id": "nPYzMzSXBStH"
      },
      "execution_count": null,
      "outputs": []
    },
    {
      "cell_type": "markdown",
      "source": [
        "# avg accuracy"
      ],
      "metadata": {
        "id": "AhWfTMns6hcE"
      }
    },
    {
      "cell_type": "code",
      "source": [
        "avg_acc=(accuracy_1+accuracy_2+accuracy_3+accuracy_4+accuracy_5)/5\n",
        "avg_acc"
      ],
      "metadata": {
        "id": "6M6EGr8_6ggq",
        "colab": {
          "base_uri": "https://localhost:8080/"
        },
        "outputId": "fab0dd15-f14f-4776-a828-9f66fe524cf9"
      },
      "execution_count": null,
      "outputs": [
        {
          "output_type": "execute_result",
          "execution_count": 92,
          "data": {
            "text/plain": [
              "0.9553349467539837"
            ]
          },
          "metadata": {}
        }
      ]
    },
    {
      "cell_type": "code",
      "source": [
        "avg_precision=(precision_1+precision_2+precision_3+precision_4+precision_5)/5\n",
        "avg_precision"
      ],
      "metadata": {
        "id": "dUVaB2ibffgT"
      },
      "execution_count": null,
      "outputs": []
    },
    {
      "cell_type": "code",
      "source": [
        "avg_recall=(recall_1+recall_2+recall_3+recall_4+recall_5)/5\n",
        "avg_recall"
      ],
      "metadata": {
        "id": "njCYG6u1fgWs"
      },
      "execution_count": null,
      "outputs": []
    },
    {
      "cell_type": "code",
      "source": [
        "avg_f1=(f1_1+f1_2+f1_3+f1_4+f1_5)/5\n",
        "avg_f1"
      ],
      "metadata": {
        "id": "Aj44rtHsfvI0"
      },
      "execution_count": null,
      "outputs": []
    },
    {
      "cell_type": "code",
      "source": [
        "cm=cm1+cm2+cm3+cm4+cm5"
      ],
      "metadata": {
        "id": "RGpdaN3B699d"
      },
      "execution_count": null,
      "outputs": []
    },
    {
      "cell_type": "code",
      "source": [
        "def plot_final_conf_matrix():\n",
        "    labels=y_test_5.unique()\n",
        "    cancer_names=[]\n",
        "    for i in labels:\n",
        "        if i in cancer_name_num_dict.keys():\n",
        "            cancer_names.append(cancer_name_num_dict[i])\n",
        "    \n",
        "    column= [f'Predict_{cancer_name}' for cancer_name in cancer_names]\n",
        "    indices= [f'Actual_{cancer_name}' for cancer_name in cancer_names]\n",
        "    \n",
        "    table= pd.DataFrame(cm, columns=column, index=indices)\n",
        "    \n",
        "    fig, ax = pyplot.subplots(figsize=(20,20))         # Sample figsize in inches\n",
        "\n",
        "    return sn.heatmap(table, annot=True, fmt=\"d\",  linewidths=.5, ax=ax)"
      ],
      "metadata": {
        "id": "_USMRKAp7dSK"
      },
      "execution_count": null,
      "outputs": []
    },
    {
      "cell_type": "code",
      "source": [
        "plot_final_conf_matrix()"
      ],
      "metadata": {
        "id": "KJmpFHd59I9Z",
        "colab": {
          "base_uri": "https://localhost:8080/",
          "height": 737
        },
        "outputId": "3a06ea15-7520-4442-ca16-5cafcf94763b"
      },
      "execution_count": null,
      "outputs": [
        {
          "output_type": "execute_result",
          "execution_count": 95,
          "data": {
            "text/plain": [
              "<matplotlib.axes._subplots.AxesSubplot at 0x7fbd78a44940>"
            ]
          },
          "metadata": {}
        },
        {
          "output_type": "display_data",
          "data": {
            "text/plain": [
              "<Figure size 1440x1440 with 2 Axes>"
            ],
            "image/png": "[encoded data removed]"
          },
          "metadata": {
            "needs_background": "light"
          }
        }
      ]
    }
  ]
}